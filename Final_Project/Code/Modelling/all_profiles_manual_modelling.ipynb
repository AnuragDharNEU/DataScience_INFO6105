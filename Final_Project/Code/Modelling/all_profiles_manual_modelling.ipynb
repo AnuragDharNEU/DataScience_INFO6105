{
 "cells": [
  {
   "cell_type": "code",
   "execution_count": 1,
   "metadata": {},
   "outputs": [],
   "source": [
    "import pandas as pd\n",
    "from sklearn.model_selection import cross_val_score, train_test_split\n",
    "from sklearn.preprocessing import StandardScaler\n",
    "from sklearn.metrics import accuracy_score,f1_score,confusion_matrix\n",
    "from sklearn.model_selection import GridSearchCV"
   ]
  },
  {
   "cell_type": "code",
   "execution_count": 3,
   "metadata": {},
   "outputs": [],
   "source": [
    "dataset = pd.read_csv('../../Data/clean_profile_data_all.csv')"
   ]
  },
  {
   "cell_type": "code",
   "execution_count": 4,
   "metadata": {
    "scrolled": true
   },
   "outputs": [
    {
     "data": {
      "text/html": [
       "<div>\n",
       "<style scoped>\n",
       "    .dataframe tbody tr th:only-of-type {\n",
       "        vertical-align: middle;\n",
       "    }\n",
       "\n",
       "    .dataframe tbody tr th {\n",
       "        vertical-align: top;\n",
       "    }\n",
       "\n",
       "    .dataframe thead th {\n",
       "        text-align: right;\n",
       "    }\n",
       "</style>\n",
       "<table border=\"1\" class=\"dataframe\">\n",
       "  <thead>\n",
       "    <tr style=\"text-align: right;\">\n",
       "      <th></th>\n",
       "      <th>gre_score</th>\n",
       "      <th>gre_score_quant</th>\n",
       "      <th>gre_score_verbal</th>\n",
       "      <th>test_score_toefl</th>\n",
       "      <th>undergraduation_score</th>\n",
       "      <th>work_ex</th>\n",
       "      <th>papers_published</th>\n",
       "      <th>university_name</th>\n",
       "      <th>status</th>\n",
       "      <th>ranking</th>\n",
       "    </tr>\n",
       "  </thead>\n",
       "  <tbody>\n",
       "    <tr>\n",
       "      <th>0</th>\n",
       "      <td>316</td>\n",
       "      <td>164</td>\n",
       "      <td>152</td>\n",
       "      <td>106.0</td>\n",
       "      <td>2.90</td>\n",
       "      <td>9</td>\n",
       "      <td>3</td>\n",
       "      <td>northeastern_university</td>\n",
       "      <td>accept</td>\n",
       "      <td>15</td>\n",
       "    </tr>\n",
       "    <tr>\n",
       "      <th>1</th>\n",
       "      <td>314</td>\n",
       "      <td>163</td>\n",
       "      <td>151</td>\n",
       "      <td>114.0</td>\n",
       "      <td>3.53</td>\n",
       "      <td>7</td>\n",
       "      <td>3</td>\n",
       "      <td>northeastern_university</td>\n",
       "      <td>accept</td>\n",
       "      <td>15</td>\n",
       "    </tr>\n",
       "    <tr>\n",
       "      <th>2</th>\n",
       "      <td>307</td>\n",
       "      <td>160</td>\n",
       "      <td>147</td>\n",
       "      <td>88.0</td>\n",
       "      <td>3.00</td>\n",
       "      <td>36</td>\n",
       "      <td>0</td>\n",
       "      <td>northeastern_university</td>\n",
       "      <td>accept</td>\n",
       "      <td>15</td>\n",
       "    </tr>\n",
       "    <tr>\n",
       "      <th>3</th>\n",
       "      <td>330</td>\n",
       "      <td>169</td>\n",
       "      <td>161</td>\n",
       "      <td>113.0</td>\n",
       "      <td>2.40</td>\n",
       "      <td>48</td>\n",
       "      <td>3</td>\n",
       "      <td>northeastern_university</td>\n",
       "      <td>accept</td>\n",
       "      <td>15</td>\n",
       "    </tr>\n",
       "    <tr>\n",
       "      <th>4</th>\n",
       "      <td>316</td>\n",
       "      <td>163</td>\n",
       "      <td>153</td>\n",
       "      <td>99.0</td>\n",
       "      <td>2.71</td>\n",
       "      <td>30</td>\n",
       "      <td>0</td>\n",
       "      <td>northeastern_university</td>\n",
       "      <td>accept</td>\n",
       "      <td>15</td>\n",
       "    </tr>\n",
       "  </tbody>\n",
       "</table>\n",
       "</div>"
      ],
      "text/plain": [
       "   gre_score  gre_score_quant  gre_score_verbal  test_score_toefl  \\\n",
       "0        316              164               152             106.0   \n",
       "1        314              163               151             114.0   \n",
       "2        307              160               147              88.0   \n",
       "3        330              169               161             113.0   \n",
       "4        316              163               153              99.0   \n",
       "\n",
       "   undergraduation_score  work_ex  papers_published          university_name  \\\n",
       "0                   2.90        9                 3  northeastern_university   \n",
       "1                   3.53        7                 3  northeastern_university   \n",
       "2                   3.00       36                 0  northeastern_university   \n",
       "3                   2.40       48                 3  northeastern_university   \n",
       "4                   2.71       30                 0  northeastern_university   \n",
       "\n",
       "   status  ranking  \n",
       "0  accept       15  \n",
       "1  accept       15  \n",
       "2  accept       15  \n",
       "3  accept       15  \n",
       "4  accept       15  "
      ]
     },
     "execution_count": 4,
     "metadata": {},
     "output_type": "execute_result"
    }
   ],
   "source": [
    "dataset.head()"
   ]
  },
  {
   "cell_type": "code",
   "execution_count": 5,
   "metadata": {
    "scrolled": true
   },
   "outputs": [
    {
     "data": {
      "text/plain": [
       "northeastern_university                        1653\n",
       "state_university_of_new_york_at_stony_brook     602\n",
       "north_carolina_state_university_raleigh         588\n",
       "syracuse_university                             518\n",
       "university_of_texas_dallas                      474\n",
       "illinois_institute_of_technology                435\n",
       "university_of_california_irvine                 400\n",
       "texas_a_m_university_college_station            387\n",
       "university_of_north_carolina_at_charlotte       380\n",
       "indiana_university_bloomington                  343\n",
       "rochester_institute_of_technology               341\n",
       "university_of_colorado_boulder                  341\n",
       "new_york_university                             318\n",
       "university_of_texas_arlington                   312\n",
       "rutgers_university_new_brunswick                304\n",
       "university_of_maryland_college_park             264\n",
       "george_mason_university                         264\n",
       "university_of_cincinnati                        242\n",
       "university_of_texas_austin                      233\n",
       "carnegie_mellon_university                      162\n",
       "michigan_technological_university               138\n",
       "georgia_institiute_of_technology                127\n",
       "clemson_university                              122\n",
       "university_of_florida                            95\n",
       "kansas_state_university                          76\n",
       "worcester_polytechnic_institute                  70\n",
       "university_of_connecticut                        64\n",
       "university_of_iowa                               59\n",
       "university_of_southern_california                38\n",
       "Name: university_name, dtype: int64"
      ]
     },
     "execution_count": 5,
     "metadata": {},
     "output_type": "execute_result"
    }
   ],
   "source": [
    "dataset.university_name.value_counts()"
   ]
  },
  {
   "cell_type": "code",
   "execution_count": 6,
   "metadata": {},
   "outputs": [],
   "source": [
    "target_universities=dataset.university_name.unique().tolist()"
   ]
  },
  {
   "cell_type": "code",
   "execution_count": 7,
   "metadata": {},
   "outputs": [],
   "source": [
    "from sklearn.utils import resample"
   ]
  },
  {
   "cell_type": "code",
   "execution_count": 8,
   "metadata": {},
   "outputs": [],
   "source": [
    "resampled_dfs=[]\n",
    "resampled_df = pd.DataFrame()\n",
    "for each in target_universities:\n",
    "    if dataset[(dataset.university_name==each )].shape[0]> 600:\n",
    "        \n",
    "        resampled_dfs.append(resample(dataset[(dataset.university_name==each )&(dataset.status=='accept')],replace=True,n_samples=300,random_state=123))\n",
    "        resampled_dfs.append(resample(dataset[(dataset.university_name==each) &(dataset.status=='reject')],replace=True,n_samples=300,random_state=123))\n",
    "        \n",
    "    elif dataset[(dataset.university_name==each )].shape[0] < 200:\n",
    "        resampled_dfs.append(resample(dataset[(dataset.university_name==each )&(dataset.status=='accept')],replace=True,n_samples=125,random_state=123))\n",
    "        resampled_dfs.append(resample(dataset[(dataset.university_name==each) &(dataset.status=='reject')],replace=True,n_samples=125,random_state=123))\n",
    "    else:\n",
    "        resampled_dfs.append(dataset[(dataset.university_name==each )&(dataset.status=='accept')])\n",
    "        resampled_dfs.append(dataset[(dataset.university_name==each )&(dataset.status=='reject')])\n",
    "        \n",
    "\n",
    "resampled_df = pd.concat( [ f for f in resampled_dfs ] )\n",
    "    "
   ]
  },
  {
   "cell_type": "code",
   "execution_count": 9,
   "metadata": {
    "scrolled": true
   },
   "outputs": [
    {
     "data": {
      "text/plain": [
       "university_name                              status\n",
       "carnegie_mellon_university                   accept    125\n",
       "                                             reject    125\n",
       "clemson_university                           accept    125\n",
       "                                             reject    125\n",
       "george_mason_university                      accept    168\n",
       "                                             reject     96\n",
       "georgia_institiute_of_technology             accept    125\n",
       "                                             reject    125\n",
       "illinois_institute_of_technology             accept    268\n",
       "                                             reject    167\n",
       "indiana_university_bloomington               accept    271\n",
       "                                             reject     72\n",
       "kansas_state_university                      accept    125\n",
       "                                             reject    125\n",
       "michigan_technological_university            accept    125\n",
       "                                             reject    125\n",
       "new_york_university                          reject    179\n",
       "                                             accept    139\n",
       "north_carolina_state_university_raleigh      reject    307\n",
       "                                             accept    281\n",
       "northeastern_university                      accept    300\n",
       "                                             reject    300\n",
       "rochester_institute_of_technology            accept    203\n",
       "                                             reject    138\n",
       "rutgers_university_new_brunswick             reject    196\n",
       "                                             accept    108\n",
       "state_university_of_new_york_at_stony_brook  accept    300\n",
       "                                             reject    300\n",
       "syracuse_university                          reject    280\n",
       "                                             accept    238\n",
       "texas_a_m_university_college_station         reject    221\n",
       "                                             accept    166\n",
       "university_of_california_irvine              reject    286\n",
       "                                             accept    114\n",
       "university_of_cincinnati                     accept    200\n",
       "                                             reject     42\n",
       "university_of_colorado_boulder               reject    195\n",
       "                                             accept    146\n",
       "university_of_connecticut                    accept    125\n",
       "                                             reject    125\n",
       "university_of_florida                        accept    125\n",
       "                                             reject    125\n",
       "university_of_iowa                           accept    125\n",
       "                                             reject    125\n",
       "university_of_maryland_college_park          reject    232\n",
       "                                             accept     32\n",
       "university_of_north_carolina_at_charlotte    reject    195\n",
       "                                             accept    185\n",
       "university_of_southern_california            accept    125\n",
       "                                             reject    125\n",
       "university_of_texas_arlington                accept    178\n",
       "                                             reject    134\n",
       "university_of_texas_austin                   reject    220\n",
       "                                             accept     13\n",
       "university_of_texas_dallas                   reject    245\n",
       "                                             accept    229\n",
       "worcester_polytechnic_institute              accept    125\n",
       "                                             reject    125\n",
       "Name: status, dtype: int64"
      ]
     },
     "execution_count": 9,
     "metadata": {},
     "output_type": "execute_result"
    }
   ],
   "source": [
    "resampled_df.groupby(by='university_name')['status'].value_counts()"
   ]
  },
  {
   "cell_type": "code",
   "execution_count": 10,
   "metadata": {},
   "outputs": [],
   "source": [
    "dataset =resampled_df.copy()"
   ]
  },
  {
   "cell_type": "code",
   "execution_count": 11,
   "metadata": {
    "scrolled": true
   },
   "outputs": [
    {
     "data": {
      "text/html": [
       "<div>\n",
       "<style scoped>\n",
       "    .dataframe tbody tr th:only-of-type {\n",
       "        vertical-align: middle;\n",
       "    }\n",
       "\n",
       "    .dataframe tbody tr th {\n",
       "        vertical-align: top;\n",
       "    }\n",
       "\n",
       "    .dataframe thead th {\n",
       "        text-align: right;\n",
       "    }\n",
       "</style>\n",
       "<table border=\"1\" class=\"dataframe\">\n",
       "  <thead>\n",
       "    <tr style=\"text-align: right;\">\n",
       "      <th></th>\n",
       "      <th>gre_score</th>\n",
       "      <th>gre_score_quant</th>\n",
       "      <th>gre_score_verbal</th>\n",
       "      <th>test_score_toefl</th>\n",
       "      <th>undergraduation_score</th>\n",
       "      <th>work_ex</th>\n",
       "      <th>papers_published</th>\n",
       "      <th>university_name</th>\n",
       "      <th>status</th>\n",
       "      <th>ranking</th>\n",
       "    </tr>\n",
       "  </thead>\n",
       "  <tbody>\n",
       "    <tr>\n",
       "      <th>510</th>\n",
       "      <td>314</td>\n",
       "      <td>165</td>\n",
       "      <td>149</td>\n",
       "      <td>100.0</td>\n",
       "      <td>2.90</td>\n",
       "      <td>0</td>\n",
       "      <td>2</td>\n",
       "      <td>northeastern_university</td>\n",
       "      <td>accept</td>\n",
       "      <td>15</td>\n",
       "    </tr>\n",
       "    <tr>\n",
       "      <th>365</th>\n",
       "      <td>315</td>\n",
       "      <td>162</td>\n",
       "      <td>153</td>\n",
       "      <td>100.0</td>\n",
       "      <td>3.30</td>\n",
       "      <td>60</td>\n",
       "      <td>0</td>\n",
       "      <td>northeastern_university</td>\n",
       "      <td>accept</td>\n",
       "      <td>15</td>\n",
       "    </tr>\n",
       "    <tr>\n",
       "      <th>382</th>\n",
       "      <td>309</td>\n",
       "      <td>163</td>\n",
       "      <td>146</td>\n",
       "      <td>104.0</td>\n",
       "      <td>2.64</td>\n",
       "      <td>32</td>\n",
       "      <td>0</td>\n",
       "      <td>northeastern_university</td>\n",
       "      <td>accept</td>\n",
       "      <td>15</td>\n",
       "    </tr>\n",
       "    <tr>\n",
       "      <th>322</th>\n",
       "      <td>310</td>\n",
       "      <td>162</td>\n",
       "      <td>148</td>\n",
       "      <td>99.0</td>\n",
       "      <td>2.85</td>\n",
       "      <td>24</td>\n",
       "      <td>0</td>\n",
       "      <td>northeastern_university</td>\n",
       "      <td>accept</td>\n",
       "      <td>15</td>\n",
       "    </tr>\n",
       "    <tr>\n",
       "      <th>98</th>\n",
       "      <td>320</td>\n",
       "      <td>170</td>\n",
       "      <td>150</td>\n",
       "      <td>104.0</td>\n",
       "      <td>3.86</td>\n",
       "      <td>2</td>\n",
       "      <td>1</td>\n",
       "      <td>northeastern_university</td>\n",
       "      <td>accept</td>\n",
       "      <td>15</td>\n",
       "    </tr>\n",
       "    <tr>\n",
       "      <th>17</th>\n",
       "      <td>304</td>\n",
       "      <td>157</td>\n",
       "      <td>147</td>\n",
       "      <td>95.0</td>\n",
       "      <td>2.82</td>\n",
       "      <td>0</td>\n",
       "      <td>0</td>\n",
       "      <td>northeastern_university</td>\n",
       "      <td>accept</td>\n",
       "      <td>15</td>\n",
       "    </tr>\n",
       "    <tr>\n",
       "      <th>106</th>\n",
       "      <td>313</td>\n",
       "      <td>164</td>\n",
       "      <td>149</td>\n",
       "      <td>110.0</td>\n",
       "      <td>2.90</td>\n",
       "      <td>7</td>\n",
       "      <td>0</td>\n",
       "      <td>northeastern_university</td>\n",
       "      <td>accept</td>\n",
       "      <td>15</td>\n",
       "    </tr>\n",
       "    <tr>\n",
       "      <th>123</th>\n",
       "      <td>317</td>\n",
       "      <td>165</td>\n",
       "      <td>152</td>\n",
       "      <td>114.0</td>\n",
       "      <td>2.64</td>\n",
       "      <td>24</td>\n",
       "      <td>0</td>\n",
       "      <td>northeastern_university</td>\n",
       "      <td>accept</td>\n",
       "      <td>15</td>\n",
       "    </tr>\n",
       "    <tr>\n",
       "      <th>569</th>\n",
       "      <td>304</td>\n",
       "      <td>155</td>\n",
       "      <td>149</td>\n",
       "      <td>99.0</td>\n",
       "      <td>2.76</td>\n",
       "      <td>20</td>\n",
       "      <td>0</td>\n",
       "      <td>northeastern_university</td>\n",
       "      <td>accept</td>\n",
       "      <td>15</td>\n",
       "    </tr>\n",
       "    <tr>\n",
       "      <th>214</th>\n",
       "      <td>304</td>\n",
       "      <td>154</td>\n",
       "      <td>150</td>\n",
       "      <td>105.0</td>\n",
       "      <td>3.20</td>\n",
       "      <td>31</td>\n",
       "      <td>3</td>\n",
       "      <td>northeastern_university</td>\n",
       "      <td>accept</td>\n",
       "      <td>15</td>\n",
       "    </tr>\n",
       "    <tr>\n",
       "      <th>96</th>\n",
       "      <td>321</td>\n",
       "      <td>163</td>\n",
       "      <td>158</td>\n",
       "      <td>109.0</td>\n",
       "      <td>3.16</td>\n",
       "      <td>44</td>\n",
       "      <td>0</td>\n",
       "      <td>northeastern_university</td>\n",
       "      <td>accept</td>\n",
       "      <td>15</td>\n",
       "    </tr>\n",
       "    <tr>\n",
       "      <th>113</th>\n",
       "      <td>299</td>\n",
       "      <td>148</td>\n",
       "      <td>151</td>\n",
       "      <td>75.0</td>\n",
       "      <td>2.62</td>\n",
       "      <td>55</td>\n",
       "      <td>0</td>\n",
       "      <td>northeastern_university</td>\n",
       "      <td>accept</td>\n",
       "      <td>15</td>\n",
       "    </tr>\n",
       "    <tr>\n",
       "      <th>47</th>\n",
       "      <td>320</td>\n",
       "      <td>170</td>\n",
       "      <td>150</td>\n",
       "      <td>107.0</td>\n",
       "      <td>3.68</td>\n",
       "      <td>4</td>\n",
       "      <td>0</td>\n",
       "      <td>northeastern_university</td>\n",
       "      <td>accept</td>\n",
       "      <td>15</td>\n",
       "    </tr>\n",
       "    <tr>\n",
       "      <th>73</th>\n",
       "      <td>320</td>\n",
       "      <td>167</td>\n",
       "      <td>153</td>\n",
       "      <td>104.0</td>\n",
       "      <td>3.46</td>\n",
       "      <td>24</td>\n",
       "      <td>0</td>\n",
       "      <td>northeastern_university</td>\n",
       "      <td>accept</td>\n",
       "      <td>15</td>\n",
       "    </tr>\n",
       "    <tr>\n",
       "      <th>544</th>\n",
       "      <td>305</td>\n",
       "      <td>159</td>\n",
       "      <td>146</td>\n",
       "      <td>92.0</td>\n",
       "      <td>1.90</td>\n",
       "      <td>0</td>\n",
       "      <td>0</td>\n",
       "      <td>northeastern_university</td>\n",
       "      <td>accept</td>\n",
       "      <td>15</td>\n",
       "    </tr>\n",
       "    <tr>\n",
       "      <th>224</th>\n",
       "      <td>312</td>\n",
       "      <td>154</td>\n",
       "      <td>158</td>\n",
       "      <td>104.0</td>\n",
       "      <td>1.24</td>\n",
       "      <td>2</td>\n",
       "      <td>0</td>\n",
       "      <td>northeastern_university</td>\n",
       "      <td>accept</td>\n",
       "      <td>15</td>\n",
       "    </tr>\n",
       "    <tr>\n",
       "      <th>111</th>\n",
       "      <td>309</td>\n",
       "      <td>160</td>\n",
       "      <td>149</td>\n",
       "      <td>75.0</td>\n",
       "      <td>3.37</td>\n",
       "      <td>30</td>\n",
       "      <td>0</td>\n",
       "      <td>northeastern_university</td>\n",
       "      <td>accept</td>\n",
       "      <td>15</td>\n",
       "    </tr>\n",
       "    <tr>\n",
       "      <th>409</th>\n",
       "      <td>307</td>\n",
       "      <td>158</td>\n",
       "      <td>149</td>\n",
       "      <td>105.0</td>\n",
       "      <td>2.96</td>\n",
       "      <td>48</td>\n",
       "      <td>1</td>\n",
       "      <td>northeastern_university</td>\n",
       "      <td>accept</td>\n",
       "      <td>15</td>\n",
       "    </tr>\n",
       "    <tr>\n",
       "      <th>339</th>\n",
       "      <td>324</td>\n",
       "      <td>170</td>\n",
       "      <td>154</td>\n",
       "      <td>98.0</td>\n",
       "      <td>2.36</td>\n",
       "      <td>0</td>\n",
       "      <td>0</td>\n",
       "      <td>northeastern_university</td>\n",
       "      <td>accept</td>\n",
       "      <td>15</td>\n",
       "    </tr>\n",
       "    <tr>\n",
       "      <th>253</th>\n",
       "      <td>315</td>\n",
       "      <td>160</td>\n",
       "      <td>155</td>\n",
       "      <td>109.0</td>\n",
       "      <td>3.59</td>\n",
       "      <td>2</td>\n",
       "      <td>3</td>\n",
       "      <td>northeastern_university</td>\n",
       "      <td>accept</td>\n",
       "      <td>15</td>\n",
       "    </tr>\n",
       "    <tr>\n",
       "      <th>420</th>\n",
       "      <td>312</td>\n",
       "      <td>160</td>\n",
       "      <td>152</td>\n",
       "      <td>109.0</td>\n",
       "      <td>2.65</td>\n",
       "      <td>9</td>\n",
       "      <td>0</td>\n",
       "      <td>northeastern_university</td>\n",
       "      <td>accept</td>\n",
       "      <td>15</td>\n",
       "    </tr>\n",
       "    <tr>\n",
       "      <th>208</th>\n",
       "      <td>321</td>\n",
       "      <td>165</td>\n",
       "      <td>156</td>\n",
       "      <td>105.0</td>\n",
       "      <td>3.00</td>\n",
       "      <td>39</td>\n",
       "      <td>0</td>\n",
       "      <td>northeastern_university</td>\n",
       "      <td>accept</td>\n",
       "      <td>15</td>\n",
       "    </tr>\n",
       "    <tr>\n",
       "      <th>68</th>\n",
       "      <td>321</td>\n",
       "      <td>168</td>\n",
       "      <td>153</td>\n",
       "      <td>109.0</td>\n",
       "      <td>3.27</td>\n",
       "      <td>2</td>\n",
       "      <td>0</td>\n",
       "      <td>northeastern_university</td>\n",
       "      <td>accept</td>\n",
       "      <td>15</td>\n",
       "    </tr>\n",
       "    <tr>\n",
       "      <th>451</th>\n",
       "      <td>324</td>\n",
       "      <td>170</td>\n",
       "      <td>154</td>\n",
       "      <td>105.0</td>\n",
       "      <td>3.31</td>\n",
       "      <td>10</td>\n",
       "      <td>0</td>\n",
       "      <td>northeastern_university</td>\n",
       "      <td>accept</td>\n",
       "      <td>15</td>\n",
       "    </tr>\n",
       "    <tr>\n",
       "      <th>2</th>\n",
       "      <td>307</td>\n",
       "      <td>160</td>\n",
       "      <td>147</td>\n",
       "      <td>88.0</td>\n",
       "      <td>3.00</td>\n",
       "      <td>36</td>\n",
       "      <td>0</td>\n",
       "      <td>northeastern_university</td>\n",
       "      <td>accept</td>\n",
       "      <td>15</td>\n",
       "    </tr>\n",
       "    <tr>\n",
       "      <th>340</th>\n",
       "      <td>311</td>\n",
       "      <td>159</td>\n",
       "      <td>152</td>\n",
       "      <td>103.0</td>\n",
       "      <td>3.08</td>\n",
       "      <td>1</td>\n",
       "      <td>0</td>\n",
       "      <td>northeastern_university</td>\n",
       "      <td>accept</td>\n",
       "      <td>15</td>\n",
       "    </tr>\n",
       "    <tr>\n",
       "      <th>39</th>\n",
       "      <td>319</td>\n",
       "      <td>163</td>\n",
       "      <td>156</td>\n",
       "      <td>112.0</td>\n",
       "      <td>3.40</td>\n",
       "      <td>0</td>\n",
       "      <td>0</td>\n",
       "      <td>northeastern_university</td>\n",
       "      <td>accept</td>\n",
       "      <td>15</td>\n",
       "    </tr>\n",
       "    <tr>\n",
       "      <th>322</th>\n",
       "      <td>310</td>\n",
       "      <td>162</td>\n",
       "      <td>148</td>\n",
       "      <td>99.0</td>\n",
       "      <td>2.85</td>\n",
       "      <td>24</td>\n",
       "      <td>0</td>\n",
       "      <td>northeastern_university</td>\n",
       "      <td>accept</td>\n",
       "      <td>15</td>\n",
       "    </tr>\n",
       "    <tr>\n",
       "      <th>559</th>\n",
       "      <td>309</td>\n",
       "      <td>163</td>\n",
       "      <td>146</td>\n",
       "      <td>106.0</td>\n",
       "      <td>2.80</td>\n",
       "      <td>0</td>\n",
       "      <td>0</td>\n",
       "      <td>northeastern_university</td>\n",
       "      <td>accept</td>\n",
       "      <td>15</td>\n",
       "    </tr>\n",
       "    <tr>\n",
       "      <th>504</th>\n",
       "      <td>326</td>\n",
       "      <td>162</td>\n",
       "      <td>164</td>\n",
       "      <td>117.0</td>\n",
       "      <td>3.20</td>\n",
       "      <td>20</td>\n",
       "      <td>3</td>\n",
       "      <td>northeastern_university</td>\n",
       "      <td>accept</td>\n",
       "      <td>15</td>\n",
       "    </tr>\n",
       "    <tr>\n",
       "      <th>...</th>\n",
       "      <td>...</td>\n",
       "      <td>...</td>\n",
       "      <td>...</td>\n",
       "      <td>...</td>\n",
       "      <td>...</td>\n",
       "      <td>...</td>\n",
       "      <td>...</td>\n",
       "      <td>...</td>\n",
       "      <td>...</td>\n",
       "      <td>...</td>\n",
       "    </tr>\n",
       "    <tr>\n",
       "      <th>9317</th>\n",
       "      <td>303</td>\n",
       "      <td>160</td>\n",
       "      <td>143</td>\n",
       "      <td>93.0</td>\n",
       "      <td>3.03</td>\n",
       "      <td>19</td>\n",
       "      <td>0</td>\n",
       "      <td>worcester_polytechnic_institute</td>\n",
       "      <td>reject</td>\n",
       "      <td>79</td>\n",
       "    </tr>\n",
       "    <tr>\n",
       "      <th>9343</th>\n",
       "      <td>327</td>\n",
       "      <td>170</td>\n",
       "      <td>157</td>\n",
       "      <td>117.0</td>\n",
       "      <td>3.28</td>\n",
       "      <td>6</td>\n",
       "      <td>3</td>\n",
       "      <td>worcester_polytechnic_institute</td>\n",
       "      <td>reject</td>\n",
       "      <td>79</td>\n",
       "    </tr>\n",
       "    <tr>\n",
       "      <th>9320</th>\n",
       "      <td>299</td>\n",
       "      <td>159</td>\n",
       "      <td>140</td>\n",
       "      <td>86.0</td>\n",
       "      <td>2.99</td>\n",
       "      <td>15</td>\n",
       "      <td>0</td>\n",
       "      <td>worcester_polytechnic_institute</td>\n",
       "      <td>reject</td>\n",
       "      <td>79</td>\n",
       "    </tr>\n",
       "    <tr>\n",
       "      <th>9342</th>\n",
       "      <td>318</td>\n",
       "      <td>168</td>\n",
       "      <td>150</td>\n",
       "      <td>106.0</td>\n",
       "      <td>1.88</td>\n",
       "      <td>18</td>\n",
       "      <td>3</td>\n",
       "      <td>worcester_polytechnic_institute</td>\n",
       "      <td>reject</td>\n",
       "      <td>79</td>\n",
       "    </tr>\n",
       "    <tr>\n",
       "      <th>9314</th>\n",
       "      <td>304</td>\n",
       "      <td>160</td>\n",
       "      <td>144</td>\n",
       "      <td>83.0</td>\n",
       "      <td>3.40</td>\n",
       "      <td>18</td>\n",
       "      <td>0</td>\n",
       "      <td>worcester_polytechnic_institute</td>\n",
       "      <td>reject</td>\n",
       "      <td>79</td>\n",
       "    </tr>\n",
       "    <tr>\n",
       "      <th>9325</th>\n",
       "      <td>315</td>\n",
       "      <td>165</td>\n",
       "      <td>150</td>\n",
       "      <td>104.0</td>\n",
       "      <td>3.12</td>\n",
       "      <td>3</td>\n",
       "      <td>2</td>\n",
       "      <td>worcester_polytechnic_institute</td>\n",
       "      <td>reject</td>\n",
       "      <td>79</td>\n",
       "    </tr>\n",
       "    <tr>\n",
       "      <th>9316</th>\n",
       "      <td>312</td>\n",
       "      <td>147</td>\n",
       "      <td>165</td>\n",
       "      <td>106.0</td>\n",
       "      <td>2.75</td>\n",
       "      <td>15</td>\n",
       "      <td>3</td>\n",
       "      <td>worcester_polytechnic_institute</td>\n",
       "      <td>reject</td>\n",
       "      <td>79</td>\n",
       "    </tr>\n",
       "    <tr>\n",
       "      <th>9320</th>\n",
       "      <td>299</td>\n",
       "      <td>159</td>\n",
       "      <td>140</td>\n",
       "      <td>86.0</td>\n",
       "      <td>2.99</td>\n",
       "      <td>15</td>\n",
       "      <td>0</td>\n",
       "      <td>worcester_polytechnic_institute</td>\n",
       "      <td>reject</td>\n",
       "      <td>79</td>\n",
       "    </tr>\n",
       "    <tr>\n",
       "      <th>9337</th>\n",
       "      <td>304</td>\n",
       "      <td>149</td>\n",
       "      <td>155</td>\n",
       "      <td>88.0</td>\n",
       "      <td>2.36</td>\n",
       "      <td>46</td>\n",
       "      <td>0</td>\n",
       "      <td>worcester_polytechnic_institute</td>\n",
       "      <td>reject</td>\n",
       "      <td>79</td>\n",
       "    </tr>\n",
       "    <tr>\n",
       "      <th>9319</th>\n",
       "      <td>303</td>\n",
       "      <td>154</td>\n",
       "      <td>149</td>\n",
       "      <td>102.0</td>\n",
       "      <td>2.05</td>\n",
       "      <td>1</td>\n",
       "      <td>0</td>\n",
       "      <td>worcester_polytechnic_institute</td>\n",
       "      <td>reject</td>\n",
       "      <td>79</td>\n",
       "    </tr>\n",
       "    <tr>\n",
       "      <th>9326</th>\n",
       "      <td>314</td>\n",
       "      <td>162</td>\n",
       "      <td>152</td>\n",
       "      <td>105.0</td>\n",
       "      <td>3.06</td>\n",
       "      <td>2</td>\n",
       "      <td>3</td>\n",
       "      <td>worcester_polytechnic_institute</td>\n",
       "      <td>reject</td>\n",
       "      <td>79</td>\n",
       "    </tr>\n",
       "    <tr>\n",
       "      <th>9341</th>\n",
       "      <td>306</td>\n",
       "      <td>158</td>\n",
       "      <td>148</td>\n",
       "      <td>100.0</td>\n",
       "      <td>2.65</td>\n",
       "      <td>18</td>\n",
       "      <td>0</td>\n",
       "      <td>worcester_polytechnic_institute</td>\n",
       "      <td>reject</td>\n",
       "      <td>79</td>\n",
       "    </tr>\n",
       "    <tr>\n",
       "      <th>9333</th>\n",
       "      <td>306</td>\n",
       "      <td>163</td>\n",
       "      <td>143</td>\n",
       "      <td>101.0</td>\n",
       "      <td>1.72</td>\n",
       "      <td>18</td>\n",
       "      <td>3</td>\n",
       "      <td>worcester_polytechnic_institute</td>\n",
       "      <td>reject</td>\n",
       "      <td>79</td>\n",
       "    </tr>\n",
       "    <tr>\n",
       "      <th>9349</th>\n",
       "      <td>294</td>\n",
       "      <td>154</td>\n",
       "      <td>140</td>\n",
       "      <td>86.0</td>\n",
       "      <td>2.85</td>\n",
       "      <td>30</td>\n",
       "      <td>0</td>\n",
       "      <td>worcester_polytechnic_institute</td>\n",
       "      <td>reject</td>\n",
       "      <td>79</td>\n",
       "    </tr>\n",
       "    <tr>\n",
       "      <th>9345</th>\n",
       "      <td>316</td>\n",
       "      <td>158</td>\n",
       "      <td>158</td>\n",
       "      <td>113.0</td>\n",
       "      <td>2.50</td>\n",
       "      <td>3</td>\n",
       "      <td>0</td>\n",
       "      <td>worcester_polytechnic_institute</td>\n",
       "      <td>reject</td>\n",
       "      <td>79</td>\n",
       "    </tr>\n",
       "    <tr>\n",
       "      <th>9337</th>\n",
       "      <td>304</td>\n",
       "      <td>149</td>\n",
       "      <td>155</td>\n",
       "      <td>88.0</td>\n",
       "      <td>2.36</td>\n",
       "      <td>46</td>\n",
       "      <td>0</td>\n",
       "      <td>worcester_polytechnic_institute</td>\n",
       "      <td>reject</td>\n",
       "      <td>79</td>\n",
       "    </tr>\n",
       "    <tr>\n",
       "      <th>9326</th>\n",
       "      <td>314</td>\n",
       "      <td>162</td>\n",
       "      <td>152</td>\n",
       "      <td>105.0</td>\n",
       "      <td>3.06</td>\n",
       "      <td>2</td>\n",
       "      <td>3</td>\n",
       "      <td>worcester_polytechnic_institute</td>\n",
       "      <td>reject</td>\n",
       "      <td>79</td>\n",
       "    </tr>\n",
       "    <tr>\n",
       "      <th>9321</th>\n",
       "      <td>308</td>\n",
       "      <td>157</td>\n",
       "      <td>151</td>\n",
       "      <td>93.0</td>\n",
       "      <td>1.28</td>\n",
       "      <td>0</td>\n",
       "      <td>0</td>\n",
       "      <td>worcester_polytechnic_institute</td>\n",
       "      <td>reject</td>\n",
       "      <td>79</td>\n",
       "    </tr>\n",
       "    <tr>\n",
       "      <th>9327</th>\n",
       "      <td>305</td>\n",
       "      <td>158</td>\n",
       "      <td>147</td>\n",
       "      <td>97.0</td>\n",
       "      <td>3.47</td>\n",
       "      <td>3</td>\n",
       "      <td>3</td>\n",
       "      <td>worcester_polytechnic_institute</td>\n",
       "      <td>reject</td>\n",
       "      <td>79</td>\n",
       "    </tr>\n",
       "    <tr>\n",
       "      <th>9319</th>\n",
       "      <td>303</td>\n",
       "      <td>154</td>\n",
       "      <td>149</td>\n",
       "      <td>102.0</td>\n",
       "      <td>2.05</td>\n",
       "      <td>1</td>\n",
       "      <td>0</td>\n",
       "      <td>worcester_polytechnic_institute</td>\n",
       "      <td>reject</td>\n",
       "      <td>79</td>\n",
       "    </tr>\n",
       "    <tr>\n",
       "      <th>9314</th>\n",
       "      <td>304</td>\n",
       "      <td>160</td>\n",
       "      <td>144</td>\n",
       "      <td>83.0</td>\n",
       "      <td>3.40</td>\n",
       "      <td>18</td>\n",
       "      <td>0</td>\n",
       "      <td>worcester_polytechnic_institute</td>\n",
       "      <td>reject</td>\n",
       "      <td>79</td>\n",
       "    </tr>\n",
       "    <tr>\n",
       "      <th>9343</th>\n",
       "      <td>327</td>\n",
       "      <td>170</td>\n",
       "      <td>157</td>\n",
       "      <td>117.0</td>\n",
       "      <td>3.28</td>\n",
       "      <td>6</td>\n",
       "      <td>3</td>\n",
       "      <td>worcester_polytechnic_institute</td>\n",
       "      <td>reject</td>\n",
       "      <td>79</td>\n",
       "    </tr>\n",
       "    <tr>\n",
       "      <th>9319</th>\n",
       "      <td>303</td>\n",
       "      <td>154</td>\n",
       "      <td>149</td>\n",
       "      <td>102.0</td>\n",
       "      <td>2.05</td>\n",
       "      <td>1</td>\n",
       "      <td>0</td>\n",
       "      <td>worcester_polytechnic_institute</td>\n",
       "      <td>reject</td>\n",
       "      <td>79</td>\n",
       "    </tr>\n",
       "    <tr>\n",
       "      <th>9323</th>\n",
       "      <td>303</td>\n",
       "      <td>152</td>\n",
       "      <td>151</td>\n",
       "      <td>100.0</td>\n",
       "      <td>3.00</td>\n",
       "      <td>24</td>\n",
       "      <td>3</td>\n",
       "      <td>worcester_polytechnic_institute</td>\n",
       "      <td>reject</td>\n",
       "      <td>79</td>\n",
       "    </tr>\n",
       "    <tr>\n",
       "      <th>9325</th>\n",
       "      <td>315</td>\n",
       "      <td>165</td>\n",
       "      <td>150</td>\n",
       "      <td>104.0</td>\n",
       "      <td>3.12</td>\n",
       "      <td>3</td>\n",
       "      <td>2</td>\n",
       "      <td>worcester_polytechnic_institute</td>\n",
       "      <td>reject</td>\n",
       "      <td>79</td>\n",
       "    </tr>\n",
       "    <tr>\n",
       "      <th>9325</th>\n",
       "      <td>315</td>\n",
       "      <td>165</td>\n",
       "      <td>150</td>\n",
       "      <td>104.0</td>\n",
       "      <td>3.12</td>\n",
       "      <td>3</td>\n",
       "      <td>2</td>\n",
       "      <td>worcester_polytechnic_institute</td>\n",
       "      <td>reject</td>\n",
       "      <td>79</td>\n",
       "    </tr>\n",
       "    <tr>\n",
       "      <th>9338</th>\n",
       "      <td>310</td>\n",
       "      <td>164</td>\n",
       "      <td>146</td>\n",
       "      <td>97.0</td>\n",
       "      <td>3.11</td>\n",
       "      <td>24</td>\n",
       "      <td>0</td>\n",
       "      <td>worcester_polytechnic_institute</td>\n",
       "      <td>reject</td>\n",
       "      <td>79</td>\n",
       "    </tr>\n",
       "    <tr>\n",
       "      <th>9320</th>\n",
       "      <td>299</td>\n",
       "      <td>159</td>\n",
       "      <td>140</td>\n",
       "      <td>86.0</td>\n",
       "      <td>2.99</td>\n",
       "      <td>15</td>\n",
       "      <td>0</td>\n",
       "      <td>worcester_polytechnic_institute</td>\n",
       "      <td>reject</td>\n",
       "      <td>79</td>\n",
       "    </tr>\n",
       "    <tr>\n",
       "      <th>9326</th>\n",
       "      <td>314</td>\n",
       "      <td>162</td>\n",
       "      <td>152</td>\n",
       "      <td>105.0</td>\n",
       "      <td>3.06</td>\n",
       "      <td>2</td>\n",
       "      <td>3</td>\n",
       "      <td>worcester_polytechnic_institute</td>\n",
       "      <td>reject</td>\n",
       "      <td>79</td>\n",
       "    </tr>\n",
       "    <tr>\n",
       "      <th>9314</th>\n",
       "      <td>304</td>\n",
       "      <td>160</td>\n",
       "      <td>144</td>\n",
       "      <td>83.0</td>\n",
       "      <td>3.40</td>\n",
       "      <td>18</td>\n",
       "      <td>0</td>\n",
       "      <td>worcester_polytechnic_institute</td>\n",
       "      <td>reject</td>\n",
       "      <td>79</td>\n",
       "    </tr>\n",
       "  </tbody>\n",
       "</table>\n",
       "<p>9844 rows × 10 columns</p>\n",
       "</div>"
      ],
      "text/plain": [
       "      gre_score  gre_score_quant  gre_score_verbal  test_score_toefl  \\\n",
       "510         314              165               149             100.0   \n",
       "365         315              162               153             100.0   \n",
       "382         309              163               146             104.0   \n",
       "322         310              162               148              99.0   \n",
       "98          320              170               150             104.0   \n",
       "17          304              157               147              95.0   \n",
       "106         313              164               149             110.0   \n",
       "123         317              165               152             114.0   \n",
       "569         304              155               149              99.0   \n",
       "214         304              154               150             105.0   \n",
       "96          321              163               158             109.0   \n",
       "113         299              148               151              75.0   \n",
       "47          320              170               150             107.0   \n",
       "73          320              167               153             104.0   \n",
       "544         305              159               146              92.0   \n",
       "224         312              154               158             104.0   \n",
       "111         309              160               149              75.0   \n",
       "409         307              158               149             105.0   \n",
       "339         324              170               154              98.0   \n",
       "253         315              160               155             109.0   \n",
       "420         312              160               152             109.0   \n",
       "208         321              165               156             105.0   \n",
       "68          321              168               153             109.0   \n",
       "451         324              170               154             105.0   \n",
       "2           307              160               147              88.0   \n",
       "340         311              159               152             103.0   \n",
       "39          319              163               156             112.0   \n",
       "322         310              162               148              99.0   \n",
       "559         309              163               146             106.0   \n",
       "504         326              162               164             117.0   \n",
       "...         ...              ...               ...               ...   \n",
       "9317        303              160               143              93.0   \n",
       "9343        327              170               157             117.0   \n",
       "9320        299              159               140              86.0   \n",
       "9342        318              168               150             106.0   \n",
       "9314        304              160               144              83.0   \n",
       "9325        315              165               150             104.0   \n",
       "9316        312              147               165             106.0   \n",
       "9320        299              159               140              86.0   \n",
       "9337        304              149               155              88.0   \n",
       "9319        303              154               149             102.0   \n",
       "9326        314              162               152             105.0   \n",
       "9341        306              158               148             100.0   \n",
       "9333        306              163               143             101.0   \n",
       "9349        294              154               140              86.0   \n",
       "9345        316              158               158             113.0   \n",
       "9337        304              149               155              88.0   \n",
       "9326        314              162               152             105.0   \n",
       "9321        308              157               151              93.0   \n",
       "9327        305              158               147              97.0   \n",
       "9319        303              154               149             102.0   \n",
       "9314        304              160               144              83.0   \n",
       "9343        327              170               157             117.0   \n",
       "9319        303              154               149             102.0   \n",
       "9323        303              152               151             100.0   \n",
       "9325        315              165               150             104.0   \n",
       "9325        315              165               150             104.0   \n",
       "9338        310              164               146              97.0   \n",
       "9320        299              159               140              86.0   \n",
       "9326        314              162               152             105.0   \n",
       "9314        304              160               144              83.0   \n",
       "\n",
       "      undergraduation_score  work_ex  papers_published  \\\n",
       "510                    2.90        0                 2   \n",
       "365                    3.30       60                 0   \n",
       "382                    2.64       32                 0   \n",
       "322                    2.85       24                 0   \n",
       "98                     3.86        2                 1   \n",
       "17                     2.82        0                 0   \n",
       "106                    2.90        7                 0   \n",
       "123                    2.64       24                 0   \n",
       "569                    2.76       20                 0   \n",
       "214                    3.20       31                 3   \n",
       "96                     3.16       44                 0   \n",
       "113                    2.62       55                 0   \n",
       "47                     3.68        4                 0   \n",
       "73                     3.46       24                 0   \n",
       "544                    1.90        0                 0   \n",
       "224                    1.24        2                 0   \n",
       "111                    3.37       30                 0   \n",
       "409                    2.96       48                 1   \n",
       "339                    2.36        0                 0   \n",
       "253                    3.59        2                 3   \n",
       "420                    2.65        9                 0   \n",
       "208                    3.00       39                 0   \n",
       "68                     3.27        2                 0   \n",
       "451                    3.31       10                 0   \n",
       "2                      3.00       36                 0   \n",
       "340                    3.08        1                 0   \n",
       "39                     3.40        0                 0   \n",
       "322                    2.85       24                 0   \n",
       "559                    2.80        0                 0   \n",
       "504                    3.20       20                 3   \n",
       "...                     ...      ...               ...   \n",
       "9317                   3.03       19                 0   \n",
       "9343                   3.28        6                 3   \n",
       "9320                   2.99       15                 0   \n",
       "9342                   1.88       18                 3   \n",
       "9314                   3.40       18                 0   \n",
       "9325                   3.12        3                 2   \n",
       "9316                   2.75       15                 3   \n",
       "9320                   2.99       15                 0   \n",
       "9337                   2.36       46                 0   \n",
       "9319                   2.05        1                 0   \n",
       "9326                   3.06        2                 3   \n",
       "9341                   2.65       18                 0   \n",
       "9333                   1.72       18                 3   \n",
       "9349                   2.85       30                 0   \n",
       "9345                   2.50        3                 0   \n",
       "9337                   2.36       46                 0   \n",
       "9326                   3.06        2                 3   \n",
       "9321                   1.28        0                 0   \n",
       "9327                   3.47        3                 3   \n",
       "9319                   2.05        1                 0   \n",
       "9314                   3.40       18                 0   \n",
       "9343                   3.28        6                 3   \n",
       "9319                   2.05        1                 0   \n",
       "9323                   3.00       24                 3   \n",
       "9325                   3.12        3                 2   \n",
       "9325                   3.12        3                 2   \n",
       "9338                   3.11       24                 0   \n",
       "9320                   2.99       15                 0   \n",
       "9326                   3.06        2                 3   \n",
       "9314                   3.40       18                 0   \n",
       "\n",
       "                      university_name  status  ranking  \n",
       "510           northeastern_university  accept       15  \n",
       "365           northeastern_university  accept       15  \n",
       "382           northeastern_university  accept       15  \n",
       "322           northeastern_university  accept       15  \n",
       "98            northeastern_university  accept       15  \n",
       "17            northeastern_university  accept       15  \n",
       "106           northeastern_university  accept       15  \n",
       "123           northeastern_university  accept       15  \n",
       "569           northeastern_university  accept       15  \n",
       "214           northeastern_university  accept       15  \n",
       "96            northeastern_university  accept       15  \n",
       "113           northeastern_university  accept       15  \n",
       "47            northeastern_university  accept       15  \n",
       "73            northeastern_university  accept       15  \n",
       "544           northeastern_university  accept       15  \n",
       "224           northeastern_university  accept       15  \n",
       "111           northeastern_university  accept       15  \n",
       "409           northeastern_university  accept       15  \n",
       "339           northeastern_university  accept       15  \n",
       "253           northeastern_university  accept       15  \n",
       "420           northeastern_university  accept       15  \n",
       "208           northeastern_university  accept       15  \n",
       "68            northeastern_university  accept       15  \n",
       "451           northeastern_university  accept       15  \n",
       "2             northeastern_university  accept       15  \n",
       "340           northeastern_university  accept       15  \n",
       "39            northeastern_university  accept       15  \n",
       "322           northeastern_university  accept       15  \n",
       "559           northeastern_university  accept       15  \n",
       "504           northeastern_university  accept       15  \n",
       "...                               ...     ...      ...  \n",
       "9317  worcester_polytechnic_institute  reject       79  \n",
       "9343  worcester_polytechnic_institute  reject       79  \n",
       "9320  worcester_polytechnic_institute  reject       79  \n",
       "9342  worcester_polytechnic_institute  reject       79  \n",
       "9314  worcester_polytechnic_institute  reject       79  \n",
       "9325  worcester_polytechnic_institute  reject       79  \n",
       "9316  worcester_polytechnic_institute  reject       79  \n",
       "9320  worcester_polytechnic_institute  reject       79  \n",
       "9337  worcester_polytechnic_institute  reject       79  \n",
       "9319  worcester_polytechnic_institute  reject       79  \n",
       "9326  worcester_polytechnic_institute  reject       79  \n",
       "9341  worcester_polytechnic_institute  reject       79  \n",
       "9333  worcester_polytechnic_institute  reject       79  \n",
       "9349  worcester_polytechnic_institute  reject       79  \n",
       "9345  worcester_polytechnic_institute  reject       79  \n",
       "9337  worcester_polytechnic_institute  reject       79  \n",
       "9326  worcester_polytechnic_institute  reject       79  \n",
       "9321  worcester_polytechnic_institute  reject       79  \n",
       "9327  worcester_polytechnic_institute  reject       79  \n",
       "9319  worcester_polytechnic_institute  reject       79  \n",
       "9314  worcester_polytechnic_institute  reject       79  \n",
       "9343  worcester_polytechnic_institute  reject       79  \n",
       "9319  worcester_polytechnic_institute  reject       79  \n",
       "9323  worcester_polytechnic_institute  reject       79  \n",
       "9325  worcester_polytechnic_institute  reject       79  \n",
       "9325  worcester_polytechnic_institute  reject       79  \n",
       "9338  worcester_polytechnic_institute  reject       79  \n",
       "9320  worcester_polytechnic_institute  reject       79  \n",
       "9326  worcester_polytechnic_institute  reject       79  \n",
       "9314  worcester_polytechnic_institute  reject       79  \n",
       "\n",
       "[9844 rows x 10 columns]"
      ]
     },
     "execution_count": 11,
     "metadata": {},
     "output_type": "execute_result"
    }
   ],
   "source": [
    "dataset"
   ]
  },
  {
   "cell_type": "code",
   "execution_count": 12,
   "metadata": {},
   "outputs": [],
   "source": [
    "#train test split for modelling\n",
    "training, testing = train_test_split(dataset, test_size=0.25, random_state=5, stratify=dataset[['university_name', 'status']])"
   ]
  },
  {
   "cell_type": "code",
   "execution_count": 13,
   "metadata": {
    "scrolled": true
   },
   "outputs": [
    {
     "data": {
      "text/plain": [
       "university_name                              status\n",
       "carnegie_mellon_university                   accept    31\n",
       "                                             reject    31\n",
       "clemson_university                           accept    31\n",
       "                                             reject    31\n",
       "george_mason_university                      accept    42\n",
       "                                             reject    24\n",
       "georgia_institiute_of_technology             accept    31\n",
       "                                             reject    31\n",
       "illinois_institute_of_technology             accept    67\n",
       "                                             reject    42\n",
       "indiana_university_bloomington               accept    68\n",
       "                                             reject    18\n",
       "kansas_state_university                      accept    31\n",
       "                                             reject    31\n",
       "michigan_technological_university            accept    31\n",
       "                                             reject    31\n",
       "new_york_university                          reject    45\n",
       "                                             accept    35\n",
       "north_carolina_state_university_raleigh      reject    77\n",
       "                                             accept    70\n",
       "northeastern_university                      accept    75\n",
       "                                             reject    75\n",
       "rochester_institute_of_technology            accept    51\n",
       "                                             reject    35\n",
       "rutgers_university_new_brunswick             reject    49\n",
       "                                             accept    27\n",
       "state_university_of_new_york_at_stony_brook  accept    75\n",
       "                                             reject    75\n",
       "syracuse_university                          reject    70\n",
       "                                             accept    60\n",
       "texas_a_m_university_college_station         reject    55\n",
       "                                             accept    42\n",
       "university_of_california_irvine              reject    72\n",
       "                                             accept    29\n",
       "university_of_cincinnati                     accept    50\n",
       "                                             reject    11\n",
       "university_of_colorado_boulder               reject    49\n",
       "                                             accept    37\n",
       "university_of_connecticut                    accept    31\n",
       "                                             reject    31\n",
       "university_of_florida                        accept    31\n",
       "                                             reject    31\n",
       "university_of_iowa                           accept    31\n",
       "                                             reject    31\n",
       "university_of_maryland_college_park          reject    58\n",
       "                                             accept     8\n",
       "university_of_north_carolina_at_charlotte    reject    49\n",
       "                                             accept    46\n",
       "university_of_southern_california            accept    31\n",
       "                                             reject    31\n",
       "university_of_texas_arlington                accept    45\n",
       "                                             reject    34\n",
       "university_of_texas_austin                   reject    55\n",
       "                                             accept     3\n",
       "university_of_texas_dallas                   reject    61\n",
       "                                             accept    57\n",
       "worcester_polytechnic_institute              accept    31\n",
       "                                             reject    31\n",
       "Name: status, dtype: int64"
      ]
     },
     "execution_count": 13,
     "metadata": {},
     "output_type": "execute_result"
    }
   ],
   "source": [
    "testing.groupby(by=['university_name'])['status'].value_counts()"
   ]
  },
  {
   "cell_type": "code",
   "execution_count": 14,
   "metadata": {
    "scrolled": true
   },
   "outputs": [
    {
     "data": {
      "text/plain": [
       "((7383, 10), (2461, 10))"
      ]
     },
     "execution_count": 14,
     "metadata": {},
     "output_type": "execute_result"
    }
   ],
   "source": [
    "training.shape,testing.shape"
   ]
  },
  {
   "cell_type": "code",
   "execution_count": null,
   "metadata": {},
   "outputs": [],
   "source": []
  },
  {
   "cell_type": "code",
   "execution_count": 15,
   "metadata": {},
   "outputs": [],
   "source": [
    "model_name=[]\n",
    "model_train_acc=[]\n",
    "model_test_accuracy=[]\n",
    "model_train_f1=[]\n",
    "model_test_f1=[]\n"
   ]
  },
  {
   "cell_type": "code",
   "execution_count": 16,
   "metadata": {},
   "outputs": [],
   "source": [
    "from sklearn.model_selection import StratifiedKFold\n",
    "import numpy as np"
   ]
  },
  {
   "cell_type": "code",
   "execution_count": 17,
   "metadata": {},
   "outputs": [],
   "source": [
    "def get_result(model, X_train, X_test, Y_train, Y_test):\n",
    "    sc = StandardScaler() \n",
    "    sc.fit(X_train)\n",
    "    X_train = sc.transform(X_train)\n",
    "    X_test = sc.transform(X_test) \n",
    "    model.fit(X_train, Y_train)\n",
    "    y_pred = model.predict(X_test)\n",
    "    y_train_pred = model.predict(X_train)\n",
    "    prob_test=pd.DataFrame(model.predict_proba(X_test))\n",
    "    prob_train=pd.DataFrame(model.predict_proba(X_train))\n",
    "    test_f1_score = f1_score(Y_test, y_pred,pos_label='accept')\n",
    "    train_f1_score = f1_score(Y_train, y_train_pred,pos_label='accept')\n",
    "    train_accuracy=accuracy_score(Y_train, y_train_pred)\n",
    "    test_accuracy=accuracy_score(Y_test, y_pred)\n",
    "    test_cm = confusion_matrix(Y_test, y_pred,labels=['accept','reject'])\n",
    "    train_cm = confusion_matrix(Y_train, y_train_pred,labels=['accept','reject'])\n",
    "    model_name.append(model)\n",
    "    model_train_acc.append(train_accuracy)\n",
    "    model_test_accuracy.append(test_accuracy)\n",
    "    model_test_f1.append(test_f1_score)\n",
    "    model_train_f1.append(train_f1_score)\n",
    "    return [train_cm,test_cm,train_accuracy,test_accuracy,train_f1_score, test_f1_score, prob_train,prob_test, y_pred,y_train_pred, model,sc]"
   ]
  },
  {
   "cell_type": "code",
   "execution_count": 18,
   "metadata": {},
   "outputs": [],
   "source": [
    "#test and train roc\n",
    "import numpy as np\n",
    "from sklearn import metrics\n",
    "from sklearn.metrics import roc_curve,auc\n",
    "import matplotlib.pyplot as plt\n",
    "import seaborn as sns\n",
    "\n",
    "def generate_cm_roc(model_results):\n",
    "    test_fpr,test_tpr,test_thresholds = metrics.roc_curve(testing['status'], model_results[7][0],pos_label='accept')\n",
    "    test_roc_auc = auc(test_fpr, test_tpr)\n",
    "    train_fpr,train_tpr,train_thresholds = metrics.roc_curve(training['status'], model_results[6][0],pos_label='accept')\n",
    "    train_roc_auc = auc(train_fpr, train_tpr)\n",
    "    plt.plot(train_fpr, train_tpr, lw=2, alpha=0.5,\n",
    "                 label='Train ROC (auc= %0.2f)' % (train_roc_auc))\n",
    "    plt.plot(test_fpr, test_tpr, lw=2, alpha=0.5,\n",
    "                 label='Test ROC (auc= %0.2f)' % (test_roc_auc))\n",
    "    plt.plot([0, 1], [0, 1], linestyle='--', lw=2, color='r',\n",
    "             label='Chance', alpha=.8)\n",
    "    plt.xlim([-0.05, 1.05])\n",
    "    plt.ylim([-0.05, 1.05])\n",
    "    plt.xlabel('False Positive Rate')\n",
    "    plt.ylabel('True Positive Rate')\n",
    "    plt.title('Receiver operating characteristic')\n",
    "    plt.legend(loc=\"lower right\")\n",
    "    plt.show()\n",
    "    f,ax = plt.subplots(figsize=(2, 2))\n",
    "    sns.heatmap(model_results[0], annot=True, linewidths=1, fmt= '.1f',ax=ax)\n",
    "    plt.title('Train Confusion Matrix')\n",
    "    plt.show()\n",
    "    f,ax = plt.subplots(figsize=(2, 2))\n",
    "    sns.heatmap(model_results[1], annot=True, linewidths=1, fmt= '.1f',ax=ax)\n",
    "    plt.title('Test confusion matrix')\n",
    "    plt.show()"
   ]
  },
  {
   "cell_type": "code",
   "execution_count": 19,
   "metadata": {
    "scrolled": true
   },
   "outputs": [
    {
     "data": {
      "text/plain": [
       "array(['gre_score', 'gre_score_quant', 'gre_score_verbal',\n",
       "       'test_score_toefl', 'undergraduation_score', 'work_ex',\n",
       "       'papers_published', 'ranking'], dtype=object)"
      ]
     },
     "execution_count": 19,
     "metadata": {},
     "output_type": "execute_result"
    }
   ],
   "source": [
    "numerical_data = training.select_dtypes(include = ['int64','float','uint8'])\n",
    "categorical_data = training.select_dtypes(include = ['object'])\n",
    "categorical_features = categorical_data.columns.values\n",
    "numerical_features = numerical_data.columns.values\n",
    "numerical_features"
   ]
  },
  {
   "cell_type": "code",
   "execution_count": 20,
   "metadata": {
    "scrolled": true
   },
   "outputs": [
    {
     "name": "stderr",
     "output_type": "stream",
     "text": [
      "C:\\Users\\navee\\Anaconda3\\lib\\site-packages\\sklearn\\preprocessing\\data.py:625: DataConversionWarning: Data with input dtype int64, float64 were all converted to float64 by StandardScaler.\n",
      "  return self.partial_fit(X, y)\n",
      "C:\\Users\\navee\\Anaconda3\\lib\\site-packages\\ipykernel_launcher.py:4: DataConversionWarning: Data with input dtype int64, float64 were all converted to float64 by StandardScaler.\n",
      "  after removing the cwd from sys.path.\n",
      "C:\\Users\\navee\\Anaconda3\\lib\\site-packages\\ipykernel_launcher.py:5: DataConversionWarning: Data with input dtype int64, float64 were all converted to float64 by StandardScaler.\n",
      "  \"\"\"\n"
     ]
    }
   ],
   "source": [
    "from sklearn.svm import SVC\n",
    "svc_model=SVC(gamma='auto',probability=True)\n",
    "\n",
    "svc_model_results=get_result(svc_model,training[numerical_features],testing[numerical_features],training['status'],testing['status'])\n"
   ]
  },
  {
   "cell_type": "code",
   "execution_count": 21,
   "metadata": {},
   "outputs": [
    {
     "name": "stdout",
     "output_type": "stream",
     "text": [
      "test_accuracy: 0.6395774075579033\n",
      "train_accuracy: 0.6655830963023162\n",
      "test_f1_score: 0.59180855959503\n",
      "train_f1_score: 0.6219568213137344\n"
     ]
    }
   ],
   "source": [
    "print('test_accuracy:',svc_model_results[3])\n",
    "print('train_accuracy:',svc_model_results[2])\n",
    "print('test_f1_score:',svc_model_results[5])\n",
    "print('train_f1_score:',svc_model_results[4])"
   ]
  },
  {
   "cell_type": "code",
   "execution_count": 22,
   "metadata": {},
   "outputs": [
    {
     "data": {
      "image/png": "[encoded data removed]",
      "text/plain": [
       "<Figure size 432x288 with 1 Axes>"
      ]
     },
     "metadata": {
      "needs_background": "light"
     },
     "output_type": "display_data"
    },
    {
     "data": {
      "image/png": "[encoded data removed]",
      "text/plain": [
       "<Figure size 144x144 with 2 Axes>"
      ]
     },
     "metadata": {
      "needs_background": "light"
     },
     "output_type": "display_data"
    },
    {
     "data": {
      "image/png": "[encoded data removed]",
      "text/plain": [
       "<Figure size 144x144 with 2 Axes>"
      ]
     },
     "metadata": {
      "needs_background": "light"
     },
     "output_type": "display_data"
    }
   ],
   "source": [
    "generate_cm_roc(svc_model_results)"
   ]
  },
  {
   "cell_type": "code",
   "execution_count": 23,
   "metadata": {},
   "outputs": [
    {
     "name": "stderr",
     "output_type": "stream",
     "text": [
      "C:\\Users\\navee\\Anaconda3\\lib\\site-packages\\sklearn\\preprocessing\\data.py:625: DataConversionWarning: Data with input dtype int64, float64 were all converted to float64 by StandardScaler.\n",
      "  return self.partial_fit(X, y)\n",
      "C:\\Users\\navee\\Anaconda3\\lib\\site-packages\\ipykernel_launcher.py:4: DataConversionWarning: Data with input dtype int64, float64 were all converted to float64 by StandardScaler.\n",
      "  after removing the cwd from sys.path.\n",
      "C:\\Users\\navee\\Anaconda3\\lib\\site-packages\\ipykernel_launcher.py:5: DataConversionWarning: Data with input dtype int64, float64 were all converted to float64 by StandardScaler.\n",
      "  \"\"\"\n"
     ]
    }
   ],
   "source": [
    "from sklearn.tree import DecisionTreeClassifier\n",
    "decision_tree_model=DecisionTreeClassifier()\n",
    "\n",
    "decision_tree_model_results=get_result(decision_tree_model,training[numerical_features],testing[numerical_features],training['status'],testing['status'])"
   ]
  },
  {
   "cell_type": "code",
   "execution_count": 24,
   "metadata": {
    "scrolled": true
   },
   "outputs": [
    {
     "name": "stdout",
     "output_type": "stream",
     "text": [
      "test_accuracy: 0.753758634701341\n",
      "train_accuracy: 1.0\n",
      "test_f1_score: 0.7455919395465994\n",
      "train_f1_score: 1.0\n"
     ]
    }
   ],
   "source": [
    "print('test_accuracy:',decision_tree_model_results[3])\n",
    "print('train_accuracy:',decision_tree_model_results[2])\n",
    "print('test_f1_score:',decision_tree_model_results[5])\n",
    "print('train_f1_score:',decision_tree_model_results[4])"
   ]
  },
  {
   "cell_type": "code",
   "execution_count": 25,
   "metadata": {
    "scrolled": true
   },
   "outputs": [
    {
     "data": {
      "text/plain": [
       "<bound method BaseEstimator.get_params of DecisionTreeClassifier(class_weight=None, criterion='gini', max_depth=None,\n",
       "            max_features=None, max_leaf_nodes=None,\n",
       "            min_impurity_decrease=0.0, min_impurity_split=None,\n",
       "            min_samples_leaf=1, min_samples_split=2,\n",
       "            min_weight_fraction_leaf=0.0, presort=False, random_state=None,\n",
       "            splitter='best')>"
      ]
     },
     "execution_count": 25,
     "metadata": {},
     "output_type": "execute_result"
    }
   ],
   "source": [
    "decision_tree_model_results[10].get_params"
   ]
  },
  {
   "cell_type": "code",
   "execution_count": 26,
   "metadata": {},
   "outputs": [
    {
     "data": {
      "text/plain": [
       "<BarContainer object of 8 artists>"
      ]
     },
     "execution_count": 26,
     "metadata": {},
     "output_type": "execute_result"
    },
    {
     "data": {
      "image/png": "[encoded data removed]",
      "text/plain": [
       "<Figure size 1440x360 with 1 Axes>"
      ]
     },
     "metadata": {
      "needs_background": "light"
     },
     "output_type": "display_data"
    }
   ],
   "source": [
    "plt.figure(figsize=(20,5))\n",
    "plt.bar(numerical_features.tolist(),decision_tree_model_results[10].feature_importances_)"
   ]
  },
  {
   "cell_type": "code",
   "execution_count": 27,
   "metadata": {},
   "outputs": [
    {
     "name": "stdout",
     "output_type": "stream",
     "text": [
      "test_accuracy: 0.7704185290532304\n",
      "train_accuracy: 0.9906542056074766\n",
      "test_f1_score: 0.7717171717171718\n",
      "train_f1_score: 0.9904498269896195\n"
     ]
    },
    {
     "name": "stderr",
     "output_type": "stream",
     "text": [
      "C:\\Users\\navee\\Anaconda3\\lib\\site-packages\\sklearn\\preprocessing\\data.py:625: DataConversionWarning: Data with input dtype int64, float64 were all converted to float64 by StandardScaler.\n",
      "  return self.partial_fit(X, y)\n",
      "C:\\Users\\navee\\Anaconda3\\lib\\site-packages\\ipykernel_launcher.py:4: DataConversionWarning: Data with input dtype int64, float64 were all converted to float64 by StandardScaler.\n",
      "  after removing the cwd from sys.path.\n",
      "C:\\Users\\navee\\Anaconda3\\lib\\site-packages\\ipykernel_launcher.py:5: DataConversionWarning: Data with input dtype int64, float64 were all converted to float64 by StandardScaler.\n",
      "  \"\"\"\n"
     ]
    }
   ],
   "source": [
    "from sklearn.ensemble import RandomForestClassifier\n",
    "random_forest_model=RandomForestClassifier(n_estimators=10)\n",
    "\n",
    "random_forest_model_results=get_result(random_forest_model,training[numerical_features],testing[numerical_features],training['status'],testing['status'])\n",
    "\n",
    "print('test_accuracy:',random_forest_model_results[3])\n",
    "print('train_accuracy:',random_forest_model_results[2])\n",
    "print('test_f1_score:',random_forest_model_results[5])\n",
    "print('train_f1_score:',random_forest_model_results[4])"
   ]
  },
  {
   "cell_type": "code",
   "execution_count": 28,
   "metadata": {},
   "outputs": [
    {
     "data": {
      "text/plain": [
       "<bound method BaseEstimator.get_params of RandomForestClassifier(bootstrap=True, class_weight=None, criterion='gini',\n",
       "            max_depth=None, max_features='auto', max_leaf_nodes=None,\n",
       "            min_impurity_decrease=0.0, min_impurity_split=None,\n",
       "            min_samples_leaf=1, min_samples_split=2,\n",
       "            min_weight_fraction_leaf=0.0, n_estimators=10, n_jobs=None,\n",
       "            oob_score=False, random_state=None, verbose=0,\n",
       "            warm_start=False)>"
      ]
     },
     "execution_count": 28,
     "metadata": {},
     "output_type": "execute_result"
    }
   ],
   "source": [
    "random_forest_model_results[10].get_params"
   ]
  },
  {
   "cell_type": "code",
   "execution_count": 29,
   "metadata": {},
   "outputs": [
    {
     "name": "stderr",
     "output_type": "stream",
     "text": [
      "C:\\Users\\navee\\Anaconda3\\lib\\site-packages\\sklearn\\preprocessing\\data.py:625: DataConversionWarning: Data with input dtype int64, float64 were all converted to float64 by StandardScaler.\n",
      "  return self.partial_fit(X, y)\n",
      "C:\\Users\\navee\\Anaconda3\\lib\\site-packages\\ipykernel_launcher.py:4: DataConversionWarning: Data with input dtype int64, float64 were all converted to float64 by StandardScaler.\n",
      "  after removing the cwd from sys.path.\n",
      "C:\\Users\\navee\\Anaconda3\\lib\\site-packages\\ipykernel_launcher.py:5: DataConversionWarning: Data with input dtype int64, float64 were all converted to float64 by StandardScaler.\n",
      "  \"\"\"\n"
     ]
    },
    {
     "name": "stdout",
     "output_type": "stream",
     "text": [
      "test_accuracy: 0.7866720845184885\n",
      "train_accuracy: 0.9823919815793039\n",
      "test_f1_score: 0.7720364741641337\n",
      "train_f1_score: 0.9817415730337079\n"
     ]
    }
   ],
   "source": [
    "from sklearn.ensemble import RandomForestClassifier\n",
    "random_forest_model=random_forest_model_results[10]\n",
    "\n",
    "param_grid = {\"n_estimators\": [10,15,20,25,30],\n",
    "             \"max_depth\": [10,15,20,25],\n",
    "             \"bootstrap\": [True, False]}\n",
    "random_forest_model_clf = GridSearchCV(random_forest_model,param_grid,cv=5,return_train_score=True)\n",
    "\n",
    "\n",
    "random_forest_model_results=get_result(random_forest_model_clf,training[numerical_features],testing[numerical_features],training['status'],testing['status'])\n",
    "\n",
    "print('test_accuracy:',random_forest_model_results[3])\n",
    "print('train_accuracy:',random_forest_model_results[2])\n",
    "print('test_f1_score:',random_forest_model_results[5])\n",
    "print('train_f1_score:',random_forest_model_results[4])"
   ]
  },
  {
   "cell_type": "code",
   "execution_count": 30,
   "metadata": {},
   "outputs": [
    {
     "data": {
      "image/png": "[encoded data removed]",
      "text/plain": [
       "<Figure size 432x288 with 1 Axes>"
      ]
     },
     "metadata": {
      "needs_background": "light"
     },
     "output_type": "display_data"
    },
    {
     "data": {
      "image/png": "[encoded data removed]",
      "text/plain": [
       "<Figure size 144x144 with 2 Axes>"
      ]
     },
     "metadata": {
      "needs_background": "light"
     },
     "output_type": "display_data"
    },
    {
     "data": {
      "image/png": "[encoded data removed]",
      "text/plain": [
       "<Figure size 144x144 with 2 Axes>"
      ]
     },
     "metadata": {
      "needs_background": "light"
     },
     "output_type": "display_data"
    }
   ],
   "source": [
    "generate_cm_roc(random_forest_model_results)"
   ]
  },
  {
   "cell_type": "code",
   "execution_count": 31,
   "metadata": {},
   "outputs": [
    {
     "data": {
      "text/plain": [
       "0.7758363808749831"
      ]
     },
     "execution_count": 31,
     "metadata": {},
     "output_type": "execute_result"
    }
   ],
   "source": [
    "random_forest_model_results[10].best_score_"
   ]
  },
  {
   "cell_type": "code",
   "execution_count": 95,
   "metadata": {},
   "outputs": [
    {
     "data": {
      "text/plain": [
       "{'mean_fit_time': array([0.03571563, 0.05094285, 0.07124238, 0.08139224, 0.09955258,\n",
       "        0.04542089, 0.06676116, 0.09329338, 0.10912304, 0.13002019,\n",
       "        0.0491838 , 0.07573037, 0.09817972, 0.12941685, 0.15070205,\n",
       "        0.05017715, 0.08161111, 0.09388881, 0.12218347, 0.14249659,\n",
       "        0.04567804, 0.06831532, 0.09078474, 0.11008811, 0.13097224,\n",
       "        0.06441712, 0.10619059, 0.13058329, 0.14870424, 0.17763491,\n",
       "        0.07435861, 0.10716505, 0.13272533, 0.16708965, 0.19929318,\n",
       "        0.07436233, 0.10600519, 0.13802252, 0.17144723, 0.20396876]),\n",
       " 'std_fit_time': array([0.00117468, 0.0003939 , 0.00123912, 0.00047091, 0.00260664,\n",
       "        0.00173979, 0.00377647, 0.01059943, 0.00419024, 0.00190089,\n",
       "        0.00046428, 0.00610252, 0.00621058, 0.00810456, 0.01118254,\n",
       "        0.00046673, 0.00620035, 0.00168517, 0.00528985, 0.00347527,\n",
       "        0.00095587, 0.00062176, 0.00439442, 0.00142532, 0.00095782,\n",
       "        0.0036558 , 0.01174434, 0.01816639, 0.00251529, 0.00163531,\n",
       "        0.00663074, 0.00691708, 0.00204916, 0.0058497 , 0.00501808,\n",
       "        0.0059338 , 0.00972306, 0.00254796, 0.00567116, 0.00396383]),\n",
       " 'mean_score_time': array([0.00390358, 0.00488048, 0.00625968, 0.00681953, 0.00801625,\n",
       "        0.00488329, 0.00585251, 0.007619  , 0.00819268, 0.0095612 ,\n",
       "        0.00470614, 0.00644116, 0.00761886, 0.00955682, 0.00994782,\n",
       "        0.00488105, 0.00722055, 0.0076067 , 0.00917373, 0.01035576,\n",
       "        0.00390368, 0.00506816, 0.00604939, 0.00683193, 0.00820508,\n",
       "        0.00507526, 0.00704985, 0.00761542, 0.00858297, 0.00995326,\n",
       "        0.00547128, 0.00682507, 0.00780129, 0.00937715, 0.0103456 ,\n",
       "        0.00527644, 0.00623693, 0.0081759 , 0.00947866, 0.01074858]),\n",
       " 'std_score_time': array([5.09122765e-07, 7.44843452e-07, 4.81001173e-04, 1.59147929e-05,\n",
       "        4.08185185e-04, 6.17057351e-04, 6.12249820e-04, 1.13362386e-03,\n",
       "        7.87779473e-04, 3.88222020e-04, 3.85697982e-04, 4.65533150e-04,\n",
       "        3.78508621e-04, 7.39488320e-04, 3.95976538e-04, 1.71161294e-05,\n",
       "        1.34481236e-03, 3.87615802e-04, 4.79079449e-04, 7.95260793e-04,\n",
       "        2.05191844e-05, 3.94380872e-04, 3.66298099e-04, 1.78416128e-07,\n",
       "        4.73181026e-04, 3.90744482e-04, 9.75949444e-04, 3.92550166e-04,\n",
       "        3.86260780e-04, 4.08312320e-04, 4.69305408e-04, 6.07729540e-04,\n",
       "        1.19333203e-05, 4.58519272e-04, 4.71001985e-04, 4.85450462e-04,\n",
       "        4.78333999e-04, 4.65771705e-04, 3.94958107e-04, 6.06727072e-04]),\n",
       " 'param_bootstrap': masked_array(data=[True, True, True, True, True, True, True, True, True,\n",
       "                    True, True, True, True, True, True, True, True, True,\n",
       "                    True, True, False, False, False, False, False, False,\n",
       "                    False, False, False, False, False, False, False, False,\n",
       "                    False, False, False, False, False, False],\n",
       "              mask=[False, False, False, False, False, False, False, False,\n",
       "                    False, False, False, False, False, False, False, False,\n",
       "                    False, False, False, False, False, False, False, False,\n",
       "                    False, False, False, False, False, False, False, False,\n",
       "                    False, False, False, False, False, False, False, False],\n",
       "        fill_value='?',\n",
       "             dtype=object),\n",
       " 'param_max_depth': masked_array(data=[10, 10, 10, 10, 10, 15, 15, 15, 15, 15, 20, 20, 20, 20,\n",
       "                    20, 25, 25, 25, 25, 25, 10, 10, 10, 10, 10, 15, 15, 15,\n",
       "                    15, 15, 20, 20, 20, 20, 20, 25, 25, 25, 25, 25],\n",
       "              mask=[False, False, False, False, False, False, False, False,\n",
       "                    False, False, False, False, False, False, False, False,\n",
       "                    False, False, False, False, False, False, False, False,\n",
       "                    False, False, False, False, False, False, False, False,\n",
       "                    False, False, False, False, False, False, False, False],\n",
       "        fill_value='?',\n",
       "             dtype=object),\n",
       " 'param_n_estimators': masked_array(data=[10, 15, 20, 25, 30, 10, 15, 20, 25, 30, 10, 15, 20, 25,\n",
       "                    30, 10, 15, 20, 25, 30, 10, 15, 20, 25, 30, 10, 15, 20,\n",
       "                    25, 30, 10, 15, 20, 25, 30, 10, 15, 20, 25, 30],\n",
       "              mask=[False, False, False, False, False, False, False, False,\n",
       "                    False, False, False, False, False, False, False, False,\n",
       "                    False, False, False, False, False, False, False, False,\n",
       "                    False, False, False, False, False, False, False, False,\n",
       "                    False, False, False, False, False, False, False, False],\n",
       "        fill_value='?',\n",
       "             dtype=object),\n",
       " 'params': [{'bootstrap': True, 'max_depth': 10, 'n_estimators': 10},\n",
       "  {'bootstrap': True, 'max_depth': 10, 'n_estimators': 15},\n",
       "  {'bootstrap': True, 'max_depth': 10, 'n_estimators': 20},\n",
       "  {'bootstrap': True, 'max_depth': 10, 'n_estimators': 25},\n",
       "  {'bootstrap': True, 'max_depth': 10, 'n_estimators': 30},\n",
       "  {'bootstrap': True, 'max_depth': 15, 'n_estimators': 10},\n",
       "  {'bootstrap': True, 'max_depth': 15, 'n_estimators': 15},\n",
       "  {'bootstrap': True, 'max_depth': 15, 'n_estimators': 20},\n",
       "  {'bootstrap': True, 'max_depth': 15, 'n_estimators': 25},\n",
       "  {'bootstrap': True, 'max_depth': 15, 'n_estimators': 30},\n",
       "  {'bootstrap': True, 'max_depth': 20, 'n_estimators': 10},\n",
       "  {'bootstrap': True, 'max_depth': 20, 'n_estimators': 15},\n",
       "  {'bootstrap': True, 'max_depth': 20, 'n_estimators': 20},\n",
       "  {'bootstrap': True, 'max_depth': 20, 'n_estimators': 25},\n",
       "  {'bootstrap': True, 'max_depth': 20, 'n_estimators': 30},\n",
       "  {'bootstrap': True, 'max_depth': 25, 'n_estimators': 10},\n",
       "  {'bootstrap': True, 'max_depth': 25, 'n_estimators': 15},\n",
       "  {'bootstrap': True, 'max_depth': 25, 'n_estimators': 20},\n",
       "  {'bootstrap': True, 'max_depth': 25, 'n_estimators': 25},\n",
       "  {'bootstrap': True, 'max_depth': 25, 'n_estimators': 30},\n",
       "  {'bootstrap': False, 'max_depth': 10, 'n_estimators': 10},\n",
       "  {'bootstrap': False, 'max_depth': 10, 'n_estimators': 15},\n",
       "  {'bootstrap': False, 'max_depth': 10, 'n_estimators': 20},\n",
       "  {'bootstrap': False, 'max_depth': 10, 'n_estimators': 25},\n",
       "  {'bootstrap': False, 'max_depth': 10, 'n_estimators': 30},\n",
       "  {'bootstrap': False, 'max_depth': 15, 'n_estimators': 10},\n",
       "  {'bootstrap': False, 'max_depth': 15, 'n_estimators': 15},\n",
       "  {'bootstrap': False, 'max_depth': 15, 'n_estimators': 20},\n",
       "  {'bootstrap': False, 'max_depth': 15, 'n_estimators': 25},\n",
       "  {'bootstrap': False, 'max_depth': 15, 'n_estimators': 30},\n",
       "  {'bootstrap': False, 'max_depth': 20, 'n_estimators': 10},\n",
       "  {'bootstrap': False, 'max_depth': 20, 'n_estimators': 15},\n",
       "  {'bootstrap': False, 'max_depth': 20, 'n_estimators': 20},\n",
       "  {'bootstrap': False, 'max_depth': 20, 'n_estimators': 25},\n",
       "  {'bootstrap': False, 'max_depth': 20, 'n_estimators': 30},\n",
       "  {'bootstrap': False, 'max_depth': 25, 'n_estimators': 10},\n",
       "  {'bootstrap': False, 'max_depth': 25, 'n_estimators': 15},\n",
       "  {'bootstrap': False, 'max_depth': 25, 'n_estimators': 20},\n",
       "  {'bootstrap': False, 'max_depth': 25, 'n_estimators': 25},\n",
       "  {'bootstrap': False, 'max_depth': 25, 'n_estimators': 30}],\n",
       " 'split0_test_score': array([0.71177267, 0.72056834, 0.71989175, 0.72936401, 0.73071719,\n",
       "        0.7435724 , 0.75236806, 0.76657645, 0.75913396, 0.7631935 ,\n",
       "        0.73207037, 0.7564276 , 0.77401894, 0.76387009, 0.76454668,\n",
       "        0.74898512, 0.75913396, 0.76184032, 0.75913396, 0.74898512,\n",
       "        0.72124493, 0.72192152, 0.72259811, 0.73207037, 0.73342355,\n",
       "        0.75372124, 0.76184032, 0.76657645, 0.7631935 , 0.75913396,\n",
       "        0.75710419, 0.77334235, 0.76116373, 0.76725304, 0.7631935 ,\n",
       "        0.75575101, 0.76184032, 0.76928281, 0.76116373, 0.76116373]),\n",
       " 'split1_test_score': array([0.71022343, 0.72376439, 0.72850372, 0.73121192, 0.73459716,\n",
       "        0.75423155, 0.77657414, 0.76777251, 0.75626269, 0.75423155,\n",
       "        0.75152336, 0.75897089, 0.7704807 , 0.76371022, 0.75897089,\n",
       "        0.7379824 , 0.75693974, 0.76980366, 0.76100203, 0.75084631,\n",
       "        0.71767095, 0.70886933, 0.72511848, 0.73188896, 0.7366283 ,\n",
       "        0.74339878, 0.76574137, 0.76980366, 0.7704807 , 0.77454299,\n",
       "        0.75220041, 0.77657414, 0.76777251, 0.77589709, 0.76438727,\n",
       "        0.74475288, 0.76844956, 0.75964794, 0.75152336, 0.76167908]),\n",
       " 'split2_test_score': array([0.71747967, 0.73373984, 0.7296748 , 0.72222222, 0.73915989,\n",
       "        0.74457995, 0.76490515, 0.76829268, 0.75880759, 0.77235772,\n",
       "        0.76829268, 0.76761518, 0.75474255, 0.77574526, 0.77371274,\n",
       "        0.74932249, 0.75745257, 0.76422764, 0.77710027, 0.77439024,\n",
       "        0.71476965, 0.73915989, 0.72831978, 0.73848238, 0.73441734,\n",
       "        0.76829268, 0.77371274, 0.77100271, 0.7703252 , 0.76829268,\n",
       "        0.75880759, 0.76422764, 0.75677507, 0.76219512, 0.78184282,\n",
       "        0.76084011, 0.76084011, 0.75745257, 0.76422764, 0.76626016]),\n",
       " 'split3_test_score': array([0.74593496, 0.74525745, 0.72628726, 0.74119241, 0.74322493,\n",
       "        0.76490515, 0.75880759, 0.77235772, 0.78252033, 0.77371274,\n",
       "        0.75880759, 0.77574526, 0.76422764, 0.7798103 , 0.77777778,\n",
       "        0.77100271, 0.76151762, 0.76558266, 0.77100271, 0.77168022,\n",
       "        0.73509485, 0.73644986, 0.74728997, 0.74728997, 0.74796748,\n",
       "        0.76355014, 0.76422764, 0.78252033, 0.77371274, 0.77710027,\n",
       "        0.76355014, 0.76355014, 0.76422764, 0.77913279, 0.77168022,\n",
       "        0.77913279, 0.77100271, 0.77642276, 0.77371274, 0.7703252 ]),\n",
       " 'split4_test_score': array([0.7303523 , 0.72628726, 0.72493225, 0.73848238, 0.73577236,\n",
       "        0.75271003, 0.76422764, 0.74728997, 0.76897019, 0.77574526,\n",
       "        0.74796748, 0.7601626 , 0.7601626 , 0.77168022, 0.76422764,\n",
       "        0.75609756, 0.74525745, 0.74457995, 0.75203252, 0.76355014,\n",
       "        0.72289973, 0.72628726, 0.72628726, 0.73102981, 0.73306233,\n",
       "        0.7601626 , 0.74864499, 0.7601626 , 0.7703252 , 0.76287263,\n",
       "        0.74390244, 0.76490515, 0.77100271, 0.75745257, 0.76151762,\n",
       "        0.7398374 , 0.75880759, 0.75135501, 0.74932249, 0.75338753]),\n",
       " 'mean_test_score': array([0.72314777, 0.72992009, 0.7258567 , 0.73249357, 0.7366924 ,\n",
       "        0.75199783, 0.76337532, 0.76445889, 0.76513612, 0.76784505,\n",
       "        0.75172694, 0.76378166, 0.76472978, 0.77096031, 0.76784505,\n",
       "        0.75267506, 0.75606122, 0.76120818, 0.76405255, 0.76188541,\n",
       "        0.72233509, 0.72653393, 0.72992009, 0.73615062, 0.73709874,\n",
       "        0.75782202, 0.76283354, 0.77001219, 0.76960585, 0.76838683,\n",
       "        0.7551131 , 0.76852228, 0.764188  , 0.76838683, 0.76852228,\n",
       "        0.75606122, 0.764188  , 0.76283354, 0.75998916, 0.76256264]),\n",
       " 'std_test_score': array([0.01341375, 0.00881314, 0.00341276, 0.00675862, 0.00423597,\n",
       "        0.00772123, 0.00799314, 0.00879979, 0.00971221, 0.00805226,\n",
       "        0.01204445, 0.00704464, 0.00693195, 0.00639675, 0.00686697,\n",
       "        0.01084686, 0.00563191, 0.00870551, 0.00890399, 0.01042542,\n",
       "        0.00697462, 0.01087303, 0.00887768, 0.00617272, 0.00557307,\n",
       "        0.00863461, 0.00813548, 0.00729664, 0.00345881, 0.00678088,\n",
       "        0.00667653, 0.00537275, 0.00496708, 0.00813592, 0.00750872,\n",
       "        0.01375518, 0.00469563, 0.00891091, 0.00886588, 0.00567075]),\n",
       " 'rank_test_score': array([39, 35, 38, 34, 32, 29, 17, 12, 10,  8, 30, 16, 11,  1,  8, 28, 25,\n",
       "        22, 15, 21, 40, 37, 35, 33, 31, 24, 18,  2,  3,  6, 27,  4, 13,  6,\n",
       "         4, 25, 13, 18, 23, 20]),\n",
       " 'split0_train_score': array([0.84995766, 0.86181202, 0.85334462, 0.86333616, 0.84724809,\n",
       "        0.96494496, 0.96816257, 0.97747671, 0.98018628, 0.9830652 ,\n",
       "        0.98933108, 0.99339543, 0.99661304, 0.99847587, 0.99898391,\n",
       "        0.99254869, 0.99729043, 0.99729043, 0.99881456, 0.99983065,\n",
       "        0.84115157, 0.85944115, 0.86621507, 0.86960203, 0.86502964,\n",
       "        0.98916173, 0.98966977, 0.99407282, 0.99424217, 0.99339543,\n",
       "        0.99983065, 1.        , 1.        , 1.        , 1.        ,\n",
       "        1.        , 1.        , 1.        , 1.        , 1.        ]),\n",
       " 'split1_train_score': array([0.82339993, 0.85336945, 0.84879783, 0.85099898, 0.86318998,\n",
       "        0.96156451, 0.97764985, 0.97815781, 0.9806976 , 0.98035896,\n",
       "        0.98628513, 0.99644429, 0.99644429, 0.99762953, 0.99864545,\n",
       "        0.98848629, 0.99525906, 0.99779885, 0.9991534 , 0.99898408,\n",
       "        0.86234338, 0.85455469, 0.8765662 , 0.8633593 , 0.87097867,\n",
       "        0.98577718, 0.98814765, 0.99221131, 0.99068744, 0.99001016,\n",
       "        1.        , 1.        , 1.        , 1.        , 1.        ,\n",
       "        1.        , 1.        , 1.        , 1.        , 1.        ]),\n",
       " 'split2_train_score': array([0.84509904, 0.84543762, 0.85203995, 0.85898087, 0.86626037,\n",
       "        0.95953953, 0.97071271, 0.97900796, 0.9781615 , 0.98154732,\n",
       "        0.98679533, 0.99424412, 0.99576773, 0.9981378 , 0.99847638,\n",
       "        0.98967327, 0.99542915, 0.99746064, 0.99864567, 0.99949213,\n",
       "        0.85356357, 0.86084307, 0.86253597, 0.86863044, 0.88031149,\n",
       "        0.9873032 , 0.99068901, 0.98984256, 0.99407483, 0.99492128,\n",
       "        1.        , 1.        , 1.        , 1.        , 1.        ,\n",
       "        1.        , 1.        , 1.        , 1.        , 1.        ]),\n",
       " 'split3_train_score': array([0.83054004, 0.84611478, 0.83697308, 0.83714237, 0.85508718,\n",
       "        0.95429152, 0.96868123, 0.96597257, 0.97833079, 0.97528356,\n",
       "        0.98814965, 0.99356695, 0.99475199, 0.99762993, 0.99881497,\n",
       "        0.98831894, 0.99576773, 0.9981378 , 0.99847638, 0.99949213,\n",
       "        0.83358727, 0.85034705, 0.8603352 , 0.85931945, 0.84882343,\n",
       "        0.98814965, 0.9891654 , 0.99187405, 0.98899611, 0.99238192,\n",
       "        1.        , 1.        , 1.        , 1.        , 1.        ,\n",
       "        1.        , 1.        , 1.        , 1.        , 1.        ]),\n",
       " 'split4_train_score': array([0.83544947, 0.8420518 , 0.8476384 , 0.85136279, 0.85271712,\n",
       "        0.9546301 , 0.96935839, 0.97477569, 0.9818859 , 0.97985441,\n",
       "        0.98882682, 0.99322837, 0.99627561, 0.99779922, 0.99779922,\n",
       "        0.99102759, 0.99762993, 0.99779922, 0.99864567, 0.99949213,\n",
       "        0.85051634, 0.85390215, 0.8603352 , 0.85694938, 0.86439817,\n",
       "        0.98459455, 0.98611816, 0.98577958, 0.9873032 , 0.99170476,\n",
       "        0.99932284, 0.99949213, 0.99983071, 1.        , 0.99966142,\n",
       "        1.        , 1.        , 1.        , 1.        , 1.        ]),\n",
       " 'mean_train_score': array([0.83688923, 0.84975714, 0.84775878, 0.85236423, 0.85690055,\n",
       "        0.95899412, 0.97091295, 0.97507815, 0.97985241, 0.98002189,\n",
       "        0.9878776 , 0.99417583, 0.99597053, 0.99793447, 0.99854399,\n",
       "        0.99001096, 0.99627526, 0.99769739, 0.99874714, 0.99945822,\n",
       "        0.84823242, 0.85581762, 0.86519753, 0.86357212, 0.86590828,\n",
       "        0.98699726, 0.988758  , 0.99075606, 0.99106075, 0.99248271,\n",
       "        0.9998307 , 0.99989843, 0.99996614, 1.        , 0.99993228,\n",
       "        1.        , 1.        , 1.        , 1.        , 1.        ]),\n",
       " 'std_train_score': array([9.61801601e-03, 7.06634751e-03, 5.77850276e-03, 8.93011509e-03,\n",
       "        6.94438487e-03, 4.08597677e-03, 3.47527573e-03, 4.76830686e-03,\n",
       "        1.42375310e-03, 2.61465384e-03, 1.16575092e-03, 1.18558202e-03,\n",
       "        6.71760419e-04, 3.28171038e-04, 4.09023997e-04, 1.59844891e-03,\n",
       "        9.87102227e-04, 2.95395420e-04, 2.29562695e-04, 2.70909507e-04,\n",
       "        9.97372073e-03, 3.83604751e-03, 6.07701586e-03, 4.97870601e-03,\n",
       "        1.02772171e-02, 1.63512409e-03, 1.55353607e-03, 2.82730776e-03,\n",
       "        2.74690287e-03, 1.64368813e-03, 2.62263982e-04, 2.03148807e-04,\n",
       "        6.77162688e-05, 0.00000000e+00, 1.35432538e-04, 0.00000000e+00,\n",
       "        0.00000000e+00, 0.00000000e+00, 0.00000000e+00, 0.00000000e+00])}"
      ]
     },
     "execution_count": 95,
     "metadata": {},
     "output_type": "execute_result"
    }
   ],
   "source": [
    "random_forest_model_results[10].cv_results_"
   ]
  },
  {
   "cell_type": "code",
   "execution_count": 32,
   "metadata": {},
   "outputs": [],
   "source": [
    "import pickle\n",
    "# Dump the trained decision tree classifier with Pickle\n",
    "rf_classifier_pkl_filename = 'student_university_random_forest_predict.pickel'\n",
    "standard_scaler_filename = 'standard_scaler_rf_model.pickel'\n",
    "\n",
    "random_forest_classifier_model_pkl = open(rf_classifier_pkl_filename, 'wb')\n",
    "pickle.dump(random_forest_model_results[10], random_forest_classifier_model_pkl)\n",
    "\n",
    "random_forest_classifier_model_pkl.close()\n",
    "\n",
    "sc_rf_classifier_scaler_pkl = open(standard_scaler_filename, 'wb')\n",
    "pickle.dump(random_forest_model_results[11], sc_rf_classifier_scaler_pkl)\n",
    "\n",
    "sc_rf_classifier_scaler_pkl.close()\n",
    "\n",
    "random_forest_classifier_model_pkl = open(rf_classifier_pkl_filename, 'rb')\n",
    "random_forest_classifier_model= pickle.load(random_forest_classifier_model_pkl)\n",
    "random_forest_classifier_model_pkl.close()\n",
    "\n",
    "sc_rf_classifier_scaler_pkl = open(standard_scaler_filename, 'rb')\n",
    "standard_scaler_rf_classifier= pickle.load(sc_rf_classifier_scaler_pkl)\n",
    "sc_rf_classifier_scaler_pkl.close()"
   ]
  },
  {
   "cell_type": "code",
   "execution_count": 33,
   "metadata": {},
   "outputs": [
    {
     "data": {
      "text/plain": [
       "StandardScaler(copy=True, with_mean=True, with_std=True)"
      ]
     },
     "execution_count": 33,
     "metadata": {},
     "output_type": "execute_result"
    }
   ],
   "source": [
    "standard_scaler_rf_classifier"
   ]
  },
  {
   "cell_type": "code",
   "execution_count": 34,
   "metadata": {},
   "outputs": [
    {
     "name": "stderr",
     "output_type": "stream",
     "text": [
      "C:\\Users\\navee\\Anaconda3\\lib\\site-packages\\ipykernel_launcher.py:1: DataConversionWarning: Data with input dtype int64, float64 were all converted to float64 by StandardScaler.\n",
      "  \"\"\"Entry point for launching an IPython kernel.\n"
     ]
    }
   ],
   "source": [
    "predictions=random_forest_classifier_model.predict(standard_scaler_rf_classifier.transform(testing[numerical_features]))"
   ]
  },
  {
   "cell_type": "code",
   "execution_count": 35,
   "metadata": {},
   "outputs": [
    {
     "data": {
      "text/plain": [
       "0.7866720845184885"
      ]
     },
     "execution_count": 35,
     "metadata": {},
     "output_type": "execute_result"
    }
   ],
   "source": [
    "accuracy_score(testing['status'],predictions)"
   ]
  },
  {
   "cell_type": "code",
   "execution_count": 36,
   "metadata": {},
   "outputs": [
    {
     "name": "stdout",
     "output_type": "stream",
     "text": [
      "test_accuracy: 0.5615603413246648\n",
      "train_accuracy: 0.5801164838141677\n",
      "test_f1_score: 0.5993316004455997\n",
      "train_f1_score: 0.6118206862008515\n"
     ]
    },
    {
     "name": "stderr",
     "output_type": "stream",
     "text": [
      "C:\\Users\\navee\\Anaconda3\\lib\\site-packages\\sklearn\\preprocessing\\data.py:625: DataConversionWarning: Data with input dtype int64, float64 were all converted to float64 by StandardScaler.\n",
      "  return self.partial_fit(X, y)\n",
      "C:\\Users\\navee\\Anaconda3\\lib\\site-packages\\ipykernel_launcher.py:4: DataConversionWarning: Data with input dtype int64, float64 were all converted to float64 by StandardScaler.\n",
      "  after removing the cwd from sys.path.\n",
      "C:\\Users\\navee\\Anaconda3\\lib\\site-packages\\ipykernel_launcher.py:5: DataConversionWarning: Data with input dtype int64, float64 were all converted to float64 by StandardScaler.\n",
      "  \"\"\"\n"
     ]
    }
   ],
   "source": [
    "from sklearn.naive_bayes import GaussianNB\n",
    "gnb_model=GaussianNB()\n",
    "\n",
    "gnb_model_results=get_result(gnb_model,training[numerical_features],testing[numerical_features],training['status'],testing['status'])\n",
    "\n",
    "print('test_accuracy:',gnb_model_results[3])\n",
    "print('train_accuracy:',gnb_model_results[2])\n",
    "print('test_f1_score:',gnb_model_results[5])\n",
    "print('train_f1_score:',gnb_model_results[4])"
   ]
  },
  {
   "cell_type": "code",
   "execution_count": 37,
   "metadata": {},
   "outputs": [
    {
     "name": "stderr",
     "output_type": "stream",
     "text": [
      "C:\\Users\\navee\\Anaconda3\\lib\\site-packages\\sklearn\\preprocessing\\data.py:625: DataConversionWarning: Data with input dtype int64, float64 were all converted to float64 by StandardScaler.\n",
      "  return self.partial_fit(X, y)\n",
      "C:\\Users\\navee\\Anaconda3\\lib\\site-packages\\ipykernel_launcher.py:4: DataConversionWarning: Data with input dtype int64, float64 were all converted to float64 by StandardScaler.\n",
      "  after removing the cwd from sys.path.\n",
      "C:\\Users\\navee\\Anaconda3\\lib\\site-packages\\ipykernel_launcher.py:5: DataConversionWarning: Data with input dtype int64, float64 were all converted to float64 by StandardScaler.\n",
      "  \"\"\"\n"
     ]
    },
    {
     "name": "stdout",
     "output_type": "stream",
     "text": [
      "test_accuracy: 0.6533929297033726\n",
      "train_accuracy: 0.7156982256535284\n",
      "test_f1_score: 0.6210573078631719\n",
      "train_f1_score: 0.6911872885096366\n"
     ]
    },
    {
     "name": "stderr",
     "output_type": "stream",
     "text": [
      "C:\\Users\\navee\\Anaconda3\\lib\\site-packages\\sklearn\\neural_network\\multilayer_perceptron.py:562: ConvergenceWarning: Stochastic Optimizer: Maximum iterations (500) reached and the optimization hasn't converged yet.\n",
      "  % self.max_iter, ConvergenceWarning)\n"
     ]
    }
   ],
   "source": [
    "from sklearn.neural_network import MLPClassifier\n",
    "mlp_model=MLPClassifier(max_iter=500,solver='adam')\n",
    "\n",
    "mlp_model_results=get_result(mlp_model,training[numerical_features],testing[numerical_features],training['status'],testing['status'])\n",
    "\n",
    "print('test_accuracy:',mlp_model_results[3])\n",
    "print('train_accuracy:',mlp_model_results[2])\n",
    "print('test_f1_score:',mlp_model_results[5])\n",
    "print('train_f1_score:',mlp_model_results[4])"
   ]
  },
  {
   "cell_type": "code",
   "execution_count": 38,
   "metadata": {},
   "outputs": [
    {
     "name": "stderr",
     "output_type": "stream",
     "text": [
      "C:\\Users\\navee\\Anaconda3\\lib\\site-packages\\sklearn\\preprocessing\\data.py:625: DataConversionWarning: Data with input dtype int64, float64 were all converted to float64 by StandardScaler.\n",
      "  return self.partial_fit(X, y)\n",
      "C:\\Users\\navee\\Anaconda3\\lib\\site-packages\\ipykernel_launcher.py:4: DataConversionWarning: Data with input dtype int64, float64 were all converted to float64 by StandardScaler.\n",
      "  after removing the cwd from sys.path.\n",
      "C:\\Users\\navee\\Anaconda3\\lib\\site-packages\\ipykernel_launcher.py:5: DataConversionWarning: Data with input dtype int64, float64 were all converted to float64 by StandardScaler.\n",
      "  \"\"\"\n"
     ]
    },
    {
     "name": "stdout",
     "output_type": "stream",
     "text": [
      "test_accuracy: 0.7025599349857782\n",
      "train_accuracy: 0.7236895570906136\n",
      "test_f1_score: 0.6822916666666666\n",
      "train_f1_score: 0.7070649052268811\n"
     ]
    }
   ],
   "source": [
    "from xgboost import XGBClassifier\n",
    "xgb_model=XGBClassifier()\n",
    "\n",
    "xgb_model_results=get_result(xgb_model,training[numerical_features],testing[numerical_features],training['status'],testing['status'])\n",
    "\n",
    "print('test_accuracy:',xgb_model_results[3])\n",
    "print('train_accuracy:',xgb_model_results[2])\n",
    "print('test_f1_score:',xgb_model_results[5])\n",
    "print('train_f1_score:',xgb_model_results[4])"
   ]
  },
  {
   "cell_type": "code",
   "execution_count": 39,
   "metadata": {},
   "outputs": [
    {
     "name": "stderr",
     "output_type": "stream",
     "text": [
      "C:\\Users\\navee\\Anaconda3\\lib\\site-packages\\sklearn\\preprocessing\\data.py:625: DataConversionWarning: Data with input dtype int64, float64 were all converted to float64 by StandardScaler.\n",
      "  return self.partial_fit(X, y)\n",
      "C:\\Users\\navee\\Anaconda3\\lib\\site-packages\\ipykernel_launcher.py:4: DataConversionWarning: Data with input dtype int64, float64 were all converted to float64 by StandardScaler.\n",
      "  after removing the cwd from sys.path.\n",
      "C:\\Users\\navee\\Anaconda3\\lib\\site-packages\\ipykernel_launcher.py:5: DataConversionWarning: Data with input dtype int64, float64 were all converted to float64 by StandardScaler.\n",
      "  \"\"\"\n"
     ]
    },
    {
     "name": "stdout",
     "output_type": "stream",
     "text": [
      "test_accuracy: 0.8049573344169036\n",
      "train_accuracy: 1.0\n",
      "test_f1_score: 0.7932816537467701\n",
      "train_f1_score: 1.0\n"
     ]
    }
   ],
   "source": [
    "from sklearn.ensemble import BaggingClassifier\n",
    "from sklearn import tree\n",
    "\n",
    "\n",
    "bagging_model=BaggingClassifier(tree.DecisionTreeClassifier(random_state=1),n_estimators = 100, max_features = 0.8)\n",
    "\n",
    "bagging_model_results=get_result(bagging_model,training[numerical_features],testing[numerical_features],training['status'],testing['status'])\n",
    "\n",
    "print('test_accuracy:',bagging_model_results[3])\n",
    "print('train_accuracy:',bagging_model_results[2])\n",
    "print('test_f1_score:',bagging_model_results[5])\n",
    "print('train_f1_score:',bagging_model_results[4])"
   ]
  },
  {
   "cell_type": "code",
   "execution_count": 40,
   "metadata": {},
   "outputs": [
    {
     "data": {
      "text/plain": [
       "<bound method ClassifierMixin.score of BaggingClassifier(base_estimator=DecisionTreeClassifier(class_weight=None, criterion='gini', max_depth=None,\n",
       "            max_features=None, max_leaf_nodes=None,\n",
       "            min_impurity_decrease=0.0, min_impurity_split=None,\n",
       "            min_samples_leaf=1, min_samples_split=2,\n",
       "            min_weight_fraction_leaf=0.0, presort=False, random_state=1,\n",
       "            splitter='best'),\n",
       "         bootstrap=True, bootstrap_features=False, max_features=0.8,\n",
       "         max_samples=1.0, n_estimators=100, n_jobs=None, oob_score=False,\n",
       "         random_state=None, verbose=0, warm_start=False)>"
      ]
     },
     "execution_count": 40,
     "metadata": {},
     "output_type": "execute_result"
    }
   ],
   "source": [
    "bagging_model_results[10].score"
   ]
  },
  {
   "cell_type": "code",
   "execution_count": 41,
   "metadata": {},
   "outputs": [
    {
     "data": {
      "image/png": "[encoded data removed]",
      "text/plain": [
       "<Figure size 432x288 with 1 Axes>"
      ]
     },
     "metadata": {
      "needs_background": "light"
     },
     "output_type": "display_data"
    },
    {
     "data": {
      "image/png": "[encoded data removed]",
      "text/plain": [
       "<Figure size 144x144 with 2 Axes>"
      ]
     },
     "metadata": {
      "needs_background": "light"
     },
     "output_type": "display_data"
    },
    {
     "data": {
      "image/png": "[encoded data removed]",
      "text/plain": [
       "<Figure size 144x144 with 2 Axes>"
      ]
     },
     "metadata": {
      "needs_background": "light"
     },
     "output_type": "display_data"
    }
   ],
   "source": [
    "generate_cm_roc(bagging_model_results)"
   ]
  },
  {
   "cell_type": "code",
   "execution_count": 42,
   "metadata": {},
   "outputs": [
    {
     "name": "stderr",
     "output_type": "stream",
     "text": [
      "C:\\Users\\navee\\Anaconda3\\lib\\site-packages\\sklearn\\preprocessing\\data.py:625: DataConversionWarning: Data with input dtype int64, float64 were all converted to float64 by StandardScaler.\n",
      "  return self.partial_fit(X, y)\n",
      "C:\\Users\\navee\\Anaconda3\\lib\\site-packages\\ipykernel_launcher.py:4: DataConversionWarning: Data with input dtype int64, float64 were all converted to float64 by StandardScaler.\n",
      "  after removing the cwd from sys.path.\n",
      "C:\\Users\\navee\\Anaconda3\\lib\\site-packages\\ipykernel_launcher.py:5: DataConversionWarning: Data with input dtype int64, float64 were all converted to float64 by StandardScaler.\n",
      "  \"\"\"\n"
     ]
    },
    {
     "name": "stdout",
     "output_type": "stream",
     "text": [
      "test_accuracy: 0.7972368955709062\n",
      "train_accuracy: 0.9995936611133686\n",
      "test_f1_score: 0.7864783910997005\n",
      "train_f1_score: 0.9995824634655532\n"
     ]
    },
    {
     "data": {
      "image/png": "[encoded data removed]",
      "text/plain": [
       "<Figure size 432x288 with 1 Axes>"
      ]
     },
     "metadata": {
      "needs_background": "light"
     },
     "output_type": "display_data"
    },
    {
     "data": {
      "image/png": "[encoded data removed]",
      "text/plain": [
       "<Figure size 144x144 with 2 Axes>"
      ]
     },
     "metadata": {
      "needs_background": "light"
     },
     "output_type": "display_data"
    },
    {
     "data": {
      "image/png": "[encoded data removed]",
      "text/plain": [
       "<Figure size 144x144 with 2 Axes>"
      ]
     },
     "metadata": {
      "needs_background": "light"
     },
     "output_type": "display_data"
    }
   ],
   "source": [
    "\n",
    "param_grid = {\"base_estimator__max_depth\" : [30,40,50],\n",
    "              \"max_samples\" : [0.05, 0.1, 0.2,0.5,0.75,0.8,1]\n",
    "             }\n",
    "clf = GridSearchCV(bagging_model_results[10],param_grid,cv=5,return_train_score=True)\n",
    "\n",
    "#tree.DecisionTreeClassifier(),n_estimators = 100, max_features = 0.8\n",
    "bagging_model_results=get_result(clf,training[numerical_features],testing[numerical_features],training['status'],testing['status'])\n",
    "\n",
    "print('test_accuracy:',bagging_model_results[3])\n",
    "print('train_accuracy:',bagging_model_results[2])\n",
    "print('test_f1_score:',bagging_model_results[5])\n",
    "print('train_f1_score:',bagging_model_results[4])\n",
    "generate_cm_roc(bagging_model_results)"
   ]
  },
  {
   "cell_type": "code",
   "execution_count": 43,
   "metadata": {},
   "outputs": [
    {
     "data": {
      "text/plain": [
       "{'mean_fit_time': array([0.13314438, 0.19734917, 0.31467552, 0.60884581, 0.78138542,\n",
       "        0.81302333, 0.07671051, 0.13215079, 0.19247174, 0.30294895,\n",
       "        0.75622883, 0.79758482, 0.82140346, 0.07652211, 0.13235126,\n",
       "        0.19266901, 0.30607128, 0.58853235, 0.75935116, 0.7934948 ,\n",
       "        0.07612915]),\n",
       " 'std_fit_time': array([8.10705153e-04, 5.12172543e-03, 1.21678003e-02, 1.64735294e-02,\n",
       "        1.45266158e-02, 5.87467861e-03, 4.54745435e-04, 4.97740286e-04,\n",
       "        3.05108383e-03, 2.59020974e-03, 1.87815525e-01, 9.10223648e-03,\n",
       "        1.77682466e-02, 4.71929954e-04, 7.69338203e-04, 3.64339406e-03,\n",
       "        4.32757073e-03, 8.75631251e-03, 8.11425940e-03, 7.92297924e-03,\n",
       "        3.02723629e-05]),\n",
       " 'mean_score_time': array([0.02185431, 0.02400961, 0.02556252, 0.02849464, 0.02967558,\n",
       "        0.02986369, 0.01288362, 0.02146468, 0.02342219, 0.02536945,\n",
       "        0.03453298, 0.02928123, 0.02947502, 0.01308131, 0.0214663 ,\n",
       "        0.02380061, 0.02557025, 0.02830591, 0.02927861, 0.029284  ,\n",
       "        0.01347923]),\n",
       " 'std_score_time': array([4.69680210e-04, 7.80833035e-04, 4.18225252e-04, 4.09596746e-04,\n",
       "        4.65912988e-04, 4.81705339e-04, 3.88938108e-04, 3.62156488e-05,\n",
       "        2.30541767e-05, 1.57813650e-05, 9.62329202e-03, 2.71603030e-05,\n",
       "        3.91109947e-04, 4.80004662e-04, 1.28067844e-05, 4.74834289e-04,\n",
       "        3.93136104e-04, 1.96373561e-06, 6.17709358e-04, 7.09831011e-06,\n",
       "        3.93233326e-04]),\n",
       " 'param_base_estimator__max_depth': masked_array(data=[30, 30, 30, 30, 30, 30, 30, 40, 40, 40, 40, 40, 40, 40,\n",
       "                    50, 50, 50, 50, 50, 50, 50],\n",
       "              mask=[False, False, False, False, False, False, False, False,\n",
       "                    False, False, False, False, False, False, False, False,\n",
       "                    False, False, False, False, False],\n",
       "        fill_value='?',\n",
       "             dtype=object),\n",
       " 'param_max_samples': masked_array(data=[0.05, 0.1, 0.2, 0.5, 0.75, 0.8, 1, 0.05, 0.1, 0.2, 0.5,\n",
       "                    0.75, 0.8, 1, 0.05, 0.1, 0.2, 0.5, 0.75, 0.8, 1],\n",
       "              mask=[False, False, False, False, False, False, False, False,\n",
       "                    False, False, False, False, False, False, False, False,\n",
       "                    False, False, False, False, False],\n",
       "        fill_value='?',\n",
       "             dtype=object),\n",
       " 'params': [{'base_estimator__max_depth': 30, 'max_samples': 0.05},\n",
       "  {'base_estimator__max_depth': 30, 'max_samples': 0.1},\n",
       "  {'base_estimator__max_depth': 30, 'max_samples': 0.2},\n",
       "  {'base_estimator__max_depth': 30, 'max_samples': 0.5},\n",
       "  {'base_estimator__max_depth': 30, 'max_samples': 0.75},\n",
       "  {'base_estimator__max_depth': 30, 'max_samples': 0.8},\n",
       "  {'base_estimator__max_depth': 30, 'max_samples': 1},\n",
       "  {'base_estimator__max_depth': 40, 'max_samples': 0.05},\n",
       "  {'base_estimator__max_depth': 40, 'max_samples': 0.1},\n",
       "  {'base_estimator__max_depth': 40, 'max_samples': 0.2},\n",
       "  {'base_estimator__max_depth': 40, 'max_samples': 0.5},\n",
       "  {'base_estimator__max_depth': 40, 'max_samples': 0.75},\n",
       "  {'base_estimator__max_depth': 40, 'max_samples': 0.8},\n",
       "  {'base_estimator__max_depth': 40, 'max_samples': 1},\n",
       "  {'base_estimator__max_depth': 50, 'max_samples': 0.05},\n",
       "  {'base_estimator__max_depth': 50, 'max_samples': 0.1},\n",
       "  {'base_estimator__max_depth': 50, 'max_samples': 0.2},\n",
       "  {'base_estimator__max_depth': 50, 'max_samples': 0.5},\n",
       "  {'base_estimator__max_depth': 50, 'max_samples': 0.75},\n",
       "  {'base_estimator__max_depth': 50, 'max_samples': 0.8},\n",
       "  {'base_estimator__max_depth': 50, 'max_samples': 1}],\n",
       " 'split0_test_score': array([0.67523681, 0.7097429 , 0.75845737, 0.78146143, 0.78755074,\n",
       "        0.77604871, 0.5135318 , 0.66305819, 0.72395129, 0.75304465,\n",
       "        0.77537212, 0.77401894, 0.77063599, 0.5135318 , 0.68132612,\n",
       "        0.71380244, 0.76657645, 0.77131258, 0.78010825, 0.76522327,\n",
       "        0.5135318 ]),\n",
       " 'split1_test_score': array([0.68381855, 0.72782668, 0.75558565, 0.78537576, 0.79282329,\n",
       "        0.79350034, 0.48679756, 0.67230873, 0.72782668, 0.76371022,\n",
       "        0.78740691, 0.79417739, 0.78063643, 0.48679756, 0.69262018,\n",
       "        0.72579553, 0.76438727, 0.78469871, 0.78605281, 0.78469871,\n",
       "        0.51320244]),\n",
       " 'split2_test_score': array([0.69241192, 0.72764228, 0.7804878 , 0.78794038, 0.78929539,\n",
       "        0.79200542, 0.51355014, 0.69105691, 0.72154472, 0.77506775,\n",
       "        0.78929539, 0.78794038, 0.80487805, 0.48644986, 0.69850949,\n",
       "        0.73170732, 0.77439024, 0.79200542, 0.79132791, 0.78794038,\n",
       "        0.48644986]),\n",
       " 'split3_test_score': array([0.71815718, 0.74051491, 0.76829268, 0.7899729 , 0.77642276,\n",
       "        0.78523035, 0.48644986, 0.69918699, 0.73306233, 0.77710027,\n",
       "        0.78861789, 0.7899729 , 0.78590786, 0.51355014, 0.70528455,\n",
       "        0.74186992, 0.76693767, 0.79200542, 0.77371274, 0.78726287,\n",
       "        0.51355014]),\n",
       " 'split4_test_score': array([0.70799458, 0.73373984, 0.75948509, 0.77574526, 0.77710027,\n",
       "        0.77642276, 0.51355014, 0.68902439, 0.73780488, 0.76626016,\n",
       "        0.77777778, 0.76897019, 0.78455285, 0.51355014, 0.70325203,\n",
       "        0.7398374 , 0.75338753, 0.78523035, 0.77371274, 0.76897019,\n",
       "        0.48644986]),\n",
       " 'mean_test_score': array([0.69551673, 0.72788839, 0.76445889, 0.7840986 , 0.78464039,\n",
       "        0.78464039, 0.50277665, 0.68292022, 0.72883652, 0.76703237,\n",
       "        0.78369227, 0.78301503, 0.78531762, 0.50277665, 0.69619396,\n",
       "        0.73059732, 0.76513612, 0.78504673, 0.78098334, 0.7788162 ,\n",
       "        0.5026412 ]),\n",
       " 'std_test_score': array([0.01566015, 0.01022962, 0.00906698, 0.00505152, 0.00665505,\n",
       "        0.00740916, 0.01318848, 0.01323203, 0.00593811, 0.00864106,\n",
       "        0.00589396, 0.00975148, 0.01114506, 0.01318848, 0.00862321,\n",
       "        0.01018818, 0.00677435, 0.00756   , 0.00691549, 0.00970561,\n",
       "        0.01321628]),\n",
       " 'rank_test_score': array([17, 15, 12,  5,  3,  3, 19, 18, 14, 10,  6,  7,  1, 19, 16, 13, 11,\n",
       "         2,  8,  9, 21]),\n",
       " 'split0_train_score': array([0.75834039, 0.82980525, 0.91126164, 0.99000847, 0.99915326,\n",
       "        0.9996613 , 0.51346317, 0.76138865, 0.83556308, 0.91143099,\n",
       "        0.9911939 , 0.99915326, 0.99915326, 0.51346317, 0.76003387,\n",
       "        0.83437765, 0.9188823 , 0.98983912, 0.99881456, 0.99932261,\n",
       "        0.51346317]),\n",
       " 'split1_train_score': array([0.75262445, 0.84253302, 0.91178463, 0.98713173, 0.9991534 ,\n",
       "        0.99932272, 0.48645445, 0.75736539, 0.83389773, 0.91483237,\n",
       "        0.98713173, 0.99932272, 0.99864545, 0.48645445, 0.76650864,\n",
       "        0.83779208, 0.90907552, 0.98645445, 0.99932272, 0.99898408,\n",
       "        0.51354555]),\n",
       " 'split2_train_score': array([0.76688674, 0.8330794 , 0.91687828, 0.98933469, 0.99915355,\n",
       "        0.99983071, 0.51345861, 0.74707974, 0.83206365, 0.91129169,\n",
       "        0.98747249, 0.99949213, 0.99932284, 0.48654139, 0.75469782,\n",
       "        0.83612663, 0.91010665, 0.98899611, 0.99881497, 0.99932284,\n",
       "        0.48654139]),\n",
       " 'split3_train_score': array([0.75605214, 0.83561876, 0.92415778, 0.99136618, 0.99847638,\n",
       "        0.99966142, 0.48654139, 0.75486711, 0.84374471, 0.90621297,\n",
       "        0.9908583 , 0.99966142, 0.99983071, 0.51345861, 0.76367022,\n",
       "        0.83629592, 0.91501608, 0.99356695, 0.99898426, 0.99966142,\n",
       "        0.51345861]),\n",
       " 'split4_train_score': array([0.75520569, 0.83087862, 0.9128153 , 0.99102759, 0.99762993,\n",
       "        0.99966142, 0.51345861, 0.76180802, 0.83257153, 0.91230743,\n",
       "        0.99035043, 0.99796851, 0.99966142, 0.51345861, 0.75063484,\n",
       "        0.82833926, 0.91044523, 0.9908583 , 0.9981378 , 0.99762993,\n",
       "        0.48654139]),\n",
       " 'mean_train_score': array([0.75782188, 0.83438301, 0.91537953, 0.98977373, 0.9987133 ,\n",
       "        0.99962751, 0.50267525, 0.75650178, 0.83556814, 0.91121509,\n",
       "        0.98940137, 0.99911961, 0.99932273, 0.50267525, 0.75910908,\n",
       "        0.83458631, 0.91270516, 0.98994299, 0.99881486, 0.99898418,\n",
       "        0.50271002]),\n",
       " 'std_train_score': array([0.00488734, 0.0045362 , 0.00481164, 0.00150573, 0.00060181,\n",
       "        0.00016591, 0.01320876, 0.00537086, 0.00426398, 0.00280541,\n",
       "        0.0017383 , 0.00059996, 0.00041477, 0.01320876, 0.00579111,\n",
       "        0.0033058 , 0.0037022 , 0.00232586, 0.00038601, 0.00071019,\n",
       "        0.01320167])}"
      ]
     },
     "execution_count": 43,
     "metadata": {},
     "output_type": "execute_result"
    }
   ],
   "source": [
    "bagging_model_results[10].cv_results_"
   ]
  },
  {
   "cell_type": "code",
   "execution_count": 44,
   "metadata": {},
   "outputs": [
    {
     "data": {
      "text/plain": [
       "0.7853176215630503"
      ]
     },
     "execution_count": 44,
     "metadata": {},
     "output_type": "execute_result"
    }
   ],
   "source": [
    "bagging_model_results[10].best_score_"
   ]
  },
  {
   "cell_type": "code",
   "execution_count": 45,
   "metadata": {
    "scrolled": true
   },
   "outputs": [
    {
     "name": "stderr",
     "output_type": "stream",
     "text": [
      "C:\\Users\\navee\\Anaconda3\\lib\\site-packages\\ipykernel_launcher.py:1: DataConversionWarning: Data with input dtype int64, float64 were all converted to float64 by StandardScaler.\n",
      "  \"\"\"Entry point for launching an IPython kernel.\n"
     ]
    },
    {
     "data": {
      "text/plain": [
       "0.7972368955709062"
      ]
     },
     "execution_count": 45,
     "metadata": {},
     "output_type": "execute_result"
    }
   ],
   "source": [
    "predictions=bagging_model_results[10].best_estimator_.predict(bagging_model_results[11].transform(testing[numerical_features]))\n",
    "accuracy_score(testing['status'],predictions)"
   ]
  },
  {
   "cell_type": "code",
   "execution_count": 46,
   "metadata": {},
   "outputs": [
    {
     "data": {
      "text/plain": [
       "{'base_estimator__max_depth': 40, 'max_samples': 0.8}"
      ]
     },
     "execution_count": 46,
     "metadata": {},
     "output_type": "execute_result"
    }
   ],
   "source": [
    "bagging_model_results[10].best_params_"
   ]
  },
  {
   "cell_type": "code",
   "execution_count": 47,
   "metadata": {},
   "outputs": [],
   "source": [
    "import pickle\n",
    "# Dump the trained decision tree classifier with Pickle\n",
    "bagging_classifier_pkl_filename = 'student_university_bagging_classifier_predict.pickel'\n",
    "standard_scaler_filename = 'standard_scaler_bagging_model.pickel'\n",
    "\n",
    "bagging_classifier_model_pkl = open(bagging_classifier_pkl_filename, 'wb')\n",
    "pickle.dump(bagging_model_results[10], bagging_classifier_model_pkl)\n",
    "\n",
    "bagging_classifier_model_pkl.close()\n",
    "\n",
    "sc_bagging_classifier_scaler_pkl = open(standard_scaler_filename, 'wb')\n",
    "pickle.dump(bagging_model_results[11], sc_bagging_classifier_scaler_pkl)\n",
    "\n",
    "sc_bagging_classifier_scaler_pkl.close()\n",
    "\n",
    "bagging_classifier_model_pkl = open(bagging_classifier_pkl_filename, 'rb')\n",
    "bagging_classifier_model= pickle.load(bagging_classifier_model_pkl)\n",
    "bagging_classifier_model_pkl.close()\n",
    "\n",
    "sc_bagging_classifier_scaler_pkl = open(standard_scaler_filename, 'rb')\n",
    "standard_scaler_bagging_classifier= pickle.load(sc_bagging_classifier_scaler_pkl)\n",
    "sc_bagging_classifier_scaler_pkl.close()"
   ]
  },
  {
   "cell_type": "code",
   "execution_count": 48,
   "metadata": {},
   "outputs": [
    {
     "data": {
      "text/plain": [
       "StandardScaler(copy=True, with_mean=True, with_std=True)"
      ]
     },
     "execution_count": 48,
     "metadata": {},
     "output_type": "execute_result"
    }
   ],
   "source": [
    "standard_scaler_bagging_classifier"
   ]
  },
  {
   "cell_type": "code",
   "execution_count": 49,
   "metadata": {},
   "outputs": [
    {
     "name": "stderr",
     "output_type": "stream",
     "text": [
      "C:\\Users\\navee\\Anaconda3\\lib\\site-packages\\ipykernel_launcher.py:1: DataConversionWarning: Data with input dtype int64, float64 were all converted to float64 by StandardScaler.\n",
      "  \"\"\"Entry point for launching an IPython kernel.\n"
     ]
    }
   ],
   "source": [
    "predictions=bagging_classifier_model.predict(standard_scaler_bagging_classifier.transform(testing[numerical_features]))"
   ]
  },
  {
   "cell_type": "code",
   "execution_count": 50,
   "metadata": {},
   "outputs": [
    {
     "data": {
      "text/plain": [
       "0.7972368955709062"
      ]
     },
     "execution_count": 50,
     "metadata": {},
     "output_type": "execute_result"
    }
   ],
   "source": [
    "accuracy_score(testing['status'],predictions)"
   ]
  },
  {
   "cell_type": "code",
   "execution_count": 51,
   "metadata": {},
   "outputs": [
    {
     "data": {
      "text/plain": [
       "array(['accept', 'reject'], dtype=object)"
      ]
     },
     "execution_count": 51,
     "metadata": {},
     "output_type": "execute_result"
    }
   ],
   "source": [
    "bagging_classifier_model.classes_"
   ]
  },
  {
   "cell_type": "code",
   "execution_count": 52,
   "metadata": {},
   "outputs": [
    {
     "name": "stderr",
     "output_type": "stream",
     "text": [
      "C:\\Users\\navee\\Anaconda3\\lib\\site-packages\\sklearn\\preprocessing\\data.py:625: DataConversionWarning: Data with input dtype int64, float64 were all converted to float64 by StandardScaler.\n",
      "  return self.partial_fit(X, y)\n",
      "C:\\Users\\navee\\Anaconda3\\lib\\site-packages\\ipykernel_launcher.py:4: DataConversionWarning: Data with input dtype int64, float64 were all converted to float64 by StandardScaler.\n",
      "  after removing the cwd from sys.path.\n",
      "C:\\Users\\navee\\Anaconda3\\lib\\site-packages\\ipykernel_launcher.py:5: DataConversionWarning: Data with input dtype int64, float64 were all converted to float64 by StandardScaler.\n",
      "  \"\"\"\n"
     ]
    }
   ],
   "source": [
    "from sklearn.neighbors import KNeighborsClassifier\n",
    "knn_clf =BaggingClassifier(KNeighborsClassifier(),n_estimators = 100, max_features = 0.8)\n",
    "\n",
    "bagging_model_results1=get_result(knn_clf,training[numerical_features],testing[numerical_features],training['status'],testing['status'])\n"
   ]
  },
  {
   "cell_type": "code",
   "execution_count": 53,
   "metadata": {
    "scrolled": true
   },
   "outputs": [
    {
     "name": "stdout",
     "output_type": "stream",
     "text": [
      "test_accuracy: 0.7139374238114587\n",
      "train_accuracy: 0.8741703914397941\n",
      "test_f1_score: 0.6983718937446445\n",
      "train_f1_score: 0.8681708528451824\n"
     ]
    },
    {
     "data": {
      "image/png": "[encoded data removed]",
      "text/plain": [
       "<Figure size 432x288 with 1 Axes>"
      ]
     },
     "metadata": {
      "needs_background": "light"
     },
     "output_type": "display_data"
    },
    {
     "data": {
      "image/png": "[encoded data removed]",
      "text/plain": [
       "<Figure size 144x144 with 2 Axes>"
      ]
     },
     "metadata": {
      "needs_background": "light"
     },
     "output_type": "display_data"
    },
    {
     "data": {
      "image/png": "[encoded data removed]",
      "text/plain": [
       "<Figure size 144x144 with 2 Axes>"
      ]
     },
     "metadata": {
      "needs_background": "light"
     },
     "output_type": "display_data"
    }
   ],
   "source": [
    "print('test_accuracy:',bagging_model_results1[3])\n",
    "print('train_accuracy:',bagging_model_results1[2])\n",
    "print('test_f1_score:',bagging_model_results1[5])\n",
    "print('train_f1_score:',bagging_model_results1[4])\n",
    "generate_cm_roc(bagging_model_results1)"
   ]
  },
  {
   "cell_type": "code",
   "execution_count": 54,
   "metadata": {
    "scrolled": true
   },
   "outputs": [
    {
     "name": "stderr",
     "output_type": "stream",
     "text": [
      "C:\\Users\\navee\\Anaconda3\\lib\\site-packages\\sklearn\\preprocessing\\data.py:625: DataConversionWarning: Data with input dtype int64, float64 were all converted to float64 by StandardScaler.\n",
      "  return self.partial_fit(X, y)\n",
      "C:\\Users\\navee\\Anaconda3\\lib\\site-packages\\ipykernel_launcher.py:4: DataConversionWarning: Data with input dtype int64, float64 were all converted to float64 by StandardScaler.\n",
      "  after removing the cwd from sys.path.\n",
      "C:\\Users\\navee\\Anaconda3\\lib\\site-packages\\ipykernel_launcher.py:5: DataConversionWarning: Data with input dtype int64, float64 were all converted to float64 by StandardScaler.\n",
      "  \"\"\"\n"
     ]
    },
    {
     "name": "stdout",
     "output_type": "stream",
     "text": [
      "test_accuracy: 0.7387240958959772\n",
      "train_accuracy: 0.9410808614384396\n",
      "test_f1_score: 0.7262664963814388\n",
      "train_f1_score: 0.9391523289970626\n"
     ]
    },
    {
     "data": {
      "image/png": "[encoded data removed]",
      "text/plain": [
       "<Figure size 432x288 with 1 Axes>"
      ]
     },
     "metadata": {
      "needs_background": "light"
     },
     "output_type": "display_data"
    },
    {
     "data": {
      "image/png": "[encoded data removed]",
      "text/plain": [
       "<Figure size 144x144 with 2 Axes>"
      ]
     },
     "metadata": {
      "needs_background": "light"
     },
     "output_type": "display_data"
    },
    {
     "data": {
      "image/png": "[encoded data removed]",
      "text/plain": [
       "<Figure size 144x144 with 2 Axes>"
      ]
     },
     "metadata": {
      "needs_background": "light"
     },
     "output_type": "display_data"
    }
   ],
   "source": [
    "from sklearn.model_selection import GridSearchCV\n",
    "param_grid = {'base_estimator__n_neighbors' : [3,5,7]}\n",
    "knn_clf = GridSearchCV(BaggingClassifier(KNeighborsClassifier(),n_estimators = 100, max_features = 0.8),param_grid,cv=5)\n",
    "\n",
    "bagging_model_results1=get_result(knn_clf,training[numerical_features],testing[numerical_features],training['status'],testing['status'])\n",
    "\n",
    "print('test_accuracy:',bagging_model_results1[3])\n",
    "print('train_accuracy:',bagging_model_results1[2])\n",
    "print('test_f1_score:',bagging_model_results1[5])\n",
    "print('train_f1_score:',bagging_model_results1[4])\n",
    "generate_cm_roc(bagging_model_results1)"
   ]
  },
  {
   "cell_type": "code",
   "execution_count": 55,
   "metadata": {},
   "outputs": [
    {
     "data": {
      "text/plain": [
       "0.7142083164025463"
      ]
     },
     "execution_count": 55,
     "metadata": {},
     "output_type": "execute_result"
    }
   ],
   "source": [
    "bagging_model_results1[10].best_score_"
   ]
  },
  {
   "cell_type": "code",
   "execution_count": 56,
   "metadata": {},
   "outputs": [
    {
     "data": {
      "text/plain": [
       "{'base_estimator__n_neighbors': 3}"
      ]
     },
     "execution_count": 56,
     "metadata": {},
     "output_type": "execute_result"
    }
   ],
   "source": [
    "bagging_model_results1[10].best_params_"
   ]
  },
  {
   "cell_type": "code",
   "execution_count": null,
   "metadata": {},
   "outputs": [],
   "source": []
  },
  {
   "cell_type": "code",
   "execution_count": 57,
   "metadata": {},
   "outputs": [],
   "source": [
    "import pickle\n",
    "# Dump the trained decision tree classifier with Pickle\n",
    "bagging_classifier_kNN_pkl_filename = 'student_university_kNN_bagging_classifier_predict.pickel'\n",
    "standard_scaler_kNN_filename = 'standard_scaler_kNN_bagging_model.pickel'\n",
    "\n",
    "bagging_classifier_model_pkl = open(bagging_classifier_kNN_pkl_filename, 'wb')\n",
    "pickle.dump(bagging_model_results1[10], bagging_classifier_model_pkl)\n",
    "\n",
    "bagging_classifier_model_pkl.close()\n",
    "\n",
    "sc_bagging_classifier_scaler_pkl = open(standard_scaler_kNN_filename, 'wb')\n",
    "pickle.dump(bagging_model_results1[11], sc_bagging_classifier_scaler_pkl)\n",
    "\n",
    "sc_bagging_classifier_scaler_pkl.close()\n",
    "\n",
    "bagging_classifier_model_pkl = open(bagging_classifier_kNN_pkl_filename, 'rb')\n",
    "bagging_classifier_model= pickle.load(bagging_classifier_model_pkl)\n",
    "bagging_classifier_model_pkl.close()\n",
    "\n",
    "sc_bagging_classifier_scaler_pkl = open(standard_scaler_kNN_filename, 'rb')\n",
    "standard_scaler_bagging_classifier= pickle.load(sc_bagging_classifier_scaler_pkl)\n",
    "sc_bagging_classifier_scaler_pkl.close()"
   ]
  },
  {
   "cell_type": "code",
   "execution_count": 58,
   "metadata": {},
   "outputs": [
    {
     "data": {
      "text/plain": [
       "StandardScaler(copy=True, with_mean=True, with_std=True)"
      ]
     },
     "execution_count": 58,
     "metadata": {},
     "output_type": "execute_result"
    }
   ],
   "source": [
    "standard_scaler_bagging_classifier"
   ]
  },
  {
   "cell_type": "code",
   "execution_count": 59,
   "metadata": {},
   "outputs": [
    {
     "name": "stderr",
     "output_type": "stream",
     "text": [
      "C:\\Users\\navee\\Anaconda3\\lib\\site-packages\\ipykernel_launcher.py:1: DataConversionWarning: Data with input dtype int64, float64 were all converted to float64 by StandardScaler.\n",
      "  \"\"\"Entry point for launching an IPython kernel.\n"
     ]
    },
    {
     "data": {
      "text/plain": [
       "0.7387240958959772"
      ]
     },
     "execution_count": 59,
     "metadata": {},
     "output_type": "execute_result"
    }
   ],
   "source": [
    "predictions=bagging_classifier_model.predict(standard_scaler_bagging_classifier.transform(testing[numerical_features]))\n",
    "accuracy_score(testing['status'],predictions)"
   ]
  },
  {
   "cell_type": "code",
   "execution_count": 60,
   "metadata": {},
   "outputs": [],
   "source": [
    "All_Model_results=pd.DataFrame()\n",
    "All_Model_results[\"Model\"]=model_name\n",
    "All_Model_results['Train Accuracy']=model_train_acc\n",
    "All_Model_results['Test Accuracy']=model_test_accuracy\n",
    "All_Model_results['Train F1 score']=model_train_f1\n",
    "All_Model_results['Test F1 score']=model_test_f1"
   ]
  },
  {
   "cell_type": "markdown",
   "metadata": {},
   "source": [
    "## model performances"
   ]
  },
  {
   "cell_type": "code",
   "execution_count": 61,
   "metadata": {},
   "outputs": [
    {
     "data": {
      "text/html": [
       "<div>\n",
       "<style scoped>\n",
       "    .dataframe tbody tr th:only-of-type {\n",
       "        vertical-align: middle;\n",
       "    }\n",
       "\n",
       "    .dataframe tbody tr th {\n",
       "        vertical-align: top;\n",
       "    }\n",
       "\n",
       "    .dataframe thead th {\n",
       "        text-align: right;\n",
       "    }\n",
       "</style>\n",
       "<table border=\"1\" class=\"dataframe\">\n",
       "  <thead>\n",
       "    <tr style=\"text-align: right;\">\n",
       "      <th></th>\n",
       "      <th>Model</th>\n",
       "      <th>Train Accuracy</th>\n",
       "      <th>Test Accuracy</th>\n",
       "      <th>Train F1 score</th>\n",
       "      <th>Test F1 score</th>\n",
       "    </tr>\n",
       "  </thead>\n",
       "  <tbody>\n",
       "    <tr>\n",
       "      <th>0</th>\n",
       "      <td>SVC(C=1.0, cache_size=200, class_weight=None, ...</td>\n",
       "      <td>0.665583</td>\n",
       "      <td>0.639577</td>\n",
       "      <td>0.621957</td>\n",
       "      <td>0.591809</td>\n",
       "    </tr>\n",
       "    <tr>\n",
       "      <th>1</th>\n",
       "      <td>DecisionTreeClassifier(class_weight=None, crit...</td>\n",
       "      <td>1.000000</td>\n",
       "      <td>0.753759</td>\n",
       "      <td>1.000000</td>\n",
       "      <td>0.745592</td>\n",
       "    </tr>\n",
       "    <tr>\n",
       "      <th>2</th>\n",
       "      <td>(DecisionTreeClassifier(class_weight=None, cri...</td>\n",
       "      <td>0.990654</td>\n",
       "      <td>0.770419</td>\n",
       "      <td>0.990450</td>\n",
       "      <td>0.771717</td>\n",
       "    </tr>\n",
       "    <tr>\n",
       "      <th>3</th>\n",
       "      <td>GridSearchCV(cv=5, error_score='raise-deprecat...</td>\n",
       "      <td>0.982392</td>\n",
       "      <td>0.786672</td>\n",
       "      <td>0.981742</td>\n",
       "      <td>0.772036</td>\n",
       "    </tr>\n",
       "    <tr>\n",
       "      <th>4</th>\n",
       "      <td>GaussianNB(priors=None, var_smoothing=1e-09)</td>\n",
       "      <td>0.580116</td>\n",
       "      <td>0.561560</td>\n",
       "      <td>0.611821</td>\n",
       "      <td>0.599332</td>\n",
       "    </tr>\n",
       "    <tr>\n",
       "      <th>5</th>\n",
       "      <td>MLPClassifier(activation='relu', alpha=0.0001,...</td>\n",
       "      <td>0.715698</td>\n",
       "      <td>0.653393</td>\n",
       "      <td>0.691187</td>\n",
       "      <td>0.621057</td>\n",
       "    </tr>\n",
       "    <tr>\n",
       "      <th>6</th>\n",
       "      <td>XGBClassifier(base_score=0.5, booster='gbtree'...</td>\n",
       "      <td>0.723690</td>\n",
       "      <td>0.702560</td>\n",
       "      <td>0.707065</td>\n",
       "      <td>0.682292</td>\n",
       "    </tr>\n",
       "    <tr>\n",
       "      <th>7</th>\n",
       "      <td>(DecisionTreeClassifier(class_weight=None, cri...</td>\n",
       "      <td>1.000000</td>\n",
       "      <td>0.804957</td>\n",
       "      <td>1.000000</td>\n",
       "      <td>0.793282</td>\n",
       "    </tr>\n",
       "    <tr>\n",
       "      <th>8</th>\n",
       "      <td>GridSearchCV(cv=5, error_score='raise-deprecat...</td>\n",
       "      <td>0.999594</td>\n",
       "      <td>0.797237</td>\n",
       "      <td>0.999582</td>\n",
       "      <td>0.786478</td>\n",
       "    </tr>\n",
       "    <tr>\n",
       "      <th>9</th>\n",
       "      <td>(KNeighborsClassifier(algorithm='auto', leaf_s...</td>\n",
       "      <td>0.874170</td>\n",
       "      <td>0.713937</td>\n",
       "      <td>0.868171</td>\n",
       "      <td>0.698372</td>\n",
       "    </tr>\n",
       "    <tr>\n",
       "      <th>10</th>\n",
       "      <td>GridSearchCV(cv=5, error_score='raise-deprecat...</td>\n",
       "      <td>0.941081</td>\n",
       "      <td>0.738724</td>\n",
       "      <td>0.939152</td>\n",
       "      <td>0.726266</td>\n",
       "    </tr>\n",
       "  </tbody>\n",
       "</table>\n",
       "</div>"
      ],
      "text/plain": [
       "                                                Model  Train Accuracy  \\\n",
       "0   SVC(C=1.0, cache_size=200, class_weight=None, ...        0.665583   \n",
       "1   DecisionTreeClassifier(class_weight=None, crit...        1.000000   \n",
       "2   (DecisionTreeClassifier(class_weight=None, cri...        0.990654   \n",
       "3   GridSearchCV(cv=5, error_score='raise-deprecat...        0.982392   \n",
       "4        GaussianNB(priors=None, var_smoothing=1e-09)        0.580116   \n",
       "5   MLPClassifier(activation='relu', alpha=0.0001,...        0.715698   \n",
       "6   XGBClassifier(base_score=0.5, booster='gbtree'...        0.723690   \n",
       "7   (DecisionTreeClassifier(class_weight=None, cri...        1.000000   \n",
       "8   GridSearchCV(cv=5, error_score='raise-deprecat...        0.999594   \n",
       "9   (KNeighborsClassifier(algorithm='auto', leaf_s...        0.874170   \n",
       "10  GridSearchCV(cv=5, error_score='raise-deprecat...        0.941081   \n",
       "\n",
       "    Test Accuracy  Train F1 score  Test F1 score  \n",
       "0        0.639577        0.621957       0.591809  \n",
       "1        0.753759        1.000000       0.745592  \n",
       "2        0.770419        0.990450       0.771717  \n",
       "3        0.786672        0.981742       0.772036  \n",
       "4        0.561560        0.611821       0.599332  \n",
       "5        0.653393        0.691187       0.621057  \n",
       "6        0.702560        0.707065       0.682292  \n",
       "7        0.804957        1.000000       0.793282  \n",
       "8        0.797237        0.999582       0.786478  \n",
       "9        0.713937        0.868171       0.698372  \n",
       "10       0.738724        0.939152       0.726266  "
      ]
     },
     "execution_count": 61,
     "metadata": {},
     "output_type": "execute_result"
    }
   ],
   "source": [
    "All_Model_results"
   ]
  },
  {
   "cell_type": "markdown",
   "metadata": {},
   "source": [
    "# summarizing best model results"
   ]
  },
  {
   "cell_type": "markdown",
   "metadata": {},
   "source": [
    "<table style=\"width:100%\">\n",
    " <tr>\n",
    "   <th>Model</th>\n",
    "   <th>Test Accuracy</th>\n",
    "   <th>Train Accuracy</th>\n",
    "   <th>Grid Search - Test Accuracy</th>\n",
    "   <th>Grid Search - Train Accuracy</th>\n",
    "   <th>Test F1 Score</th>\n",
    "   <th>Train F1 Score</th>\n",
    "   <th>Test AUC ROC Curve</th>\n",
    "   <th>Train AUC ROC Curve</th>\n",
    "   <th>Interpretability</th>\n",
    "   <th>Reproducability</th>\n",
    " </tr>\n",
    " <tr>\n",
    "   <th>Bagging - Decision Tree</th>\n",
    "   <th>0.79</th>\n",
    "   <th>0.99</th>\n",
    "   <th>0.80</th>\n",
    "   <th>0.98</th>\n",
    "   <th>0.78</th>\n",
    "   <th>0.99</th>\n",
    "   <th>0.89</th>\n",
    "   <th>0.99</th>\n",
    "   <th>Yes</th>\n",
    "   <th>No</th>\n",
    " </tr>\n",
    "  <tr>\n",
    "   <th>Random Forest Classifer</th>\n",
    "   <th>0.77</th>\n",
    "   <th>0.98</th>\n",
    "   <th>0.78</th>\n",
    "   <th>0.97</th>\n",
    "   <th>0.77</th>\n",
    "   <th>0.97</th>\n",
    "   <th>0.87</th>\n",
    "   <th>1.0</th>\n",
    "   <th>No</th>\n",
    "   <th>No</th>\n",
    " </tr>\n",
    " <tr>\n",
    "   <th>Bagging - kNN(k=3(Best))</th>\n",
    "   <th>0.72</th>\n",
    "   <th>0.87</th>\n",
    "   <th>0.74</th>\n",
    "   <th>0.94</th>\n",
    "   <th>0.73</th>\n",
    "   <th>0.94</th>\n",
    "   <th>0.82</th>\n",
    "   <th>0.99</th>\n",
    "   <th>No</th>\n",
    "   <th>No</th>\n",
    " </tr>\n",
    "\n",
    "</table>\n",
    "\n",
    "- Bagging model with Decision Tree is giving us best results with ~80% test accuracy and 0.78 f1 score\n",
    "- Random Forest Classifier is giving us 2nd best results with ~77% test accuracy and 0.77 f1 score\n",
    "- Bagging model with kNN(k=3) is giving us 3rd best results with ~72% test accuracy and 0.73 f1 score"
   ]
  },
  {
   "cell_type": "code",
   "execution_count": null,
   "metadata": {},
   "outputs": [],
   "source": []
  }
 ],
 "metadata": {
  "kernelspec": {
   "display_name": "Python 3",
   "language": "python",
   "name": "python3"
  },
  "language_info": {
   "codemirror_mode": {
    "name": "ipython",
    "version": 3
   },
   "file_extension": ".py",
   "mimetype": "text/x-python",
   "name": "python",
   "nbconvert_exporter": "python",
   "pygments_lexer": "ipython3",
   "version": "3.7.1"
  }
 },
 "nbformat": 4,
 "nbformat_minor": 2
}
